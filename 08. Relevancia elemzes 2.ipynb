{
 "cells": [
  {
   "cell_type": "code",
   "execution_count": 1,
   "id": "65677de8-50d7-4dad-b538-9e51ac680eb4",
   "metadata": {},
   "outputs": [
    {
     "name": "stdout",
     "output_type": "stream",
     "text": [
      "Requirement already satisfied: llama-index in ./jupyter-env/lib/python3.12/site-packages (0.12.35)\n",
      "Requirement already satisfied: llama-index-embeddings-huggingface in ./jupyter-env/lib/python3.12/site-packages (0.5.4)\n",
      "Requirement already satisfied: llama-index-llms-huggingface in ./jupyter-env/lib/python3.12/site-packages (0.5.0)\n",
      "Requirement already satisfied: bitsandbytes in ./jupyter-env/lib/python3.12/site-packages (0.45.5)\n",
      "Requirement already satisfied: torch in ./jupyter-env/lib/python3.12/site-packages (2.7.0)\n",
      "Requirement already satisfied: spacy in ./jupyter-env/lib/python3.12/site-packages (3.8.5)\n",
      "Requirement already satisfied: hdbscan in ./jupyter-env/lib/python3.12/site-packages (0.8.40)\n",
      "Requirement already satisfied: umap-learn in ./jupyter-env/lib/python3.12/site-packages (0.5.7)\n",
      "Requirement already satisfied: scikit-learn in ./jupyter-env/lib/python3.12/site-packages (1.6.1)\n",
      "Requirement already satisfied: llama-index-agent-openai<0.5,>=0.4.0 in ./jupyter-env/lib/python3.12/site-packages (from llama-index) (0.4.7)\n",
      "Requirement already satisfied: llama-index-cli<0.5,>=0.4.1 in ./jupyter-env/lib/python3.12/site-packages (from llama-index) (0.4.1)\n",
      "Requirement already satisfied: llama-index-core<0.13,>=0.12.35 in ./jupyter-env/lib/python3.12/site-packages (from llama-index) (0.12.35)\n",
      "Requirement already satisfied: llama-index-embeddings-openai<0.4,>=0.3.0 in ./jupyter-env/lib/python3.12/site-packages (from llama-index) (0.3.1)\n",
      "Requirement already satisfied: llama-index-indices-managed-llama-cloud>=0.4.0 in ./jupyter-env/lib/python3.12/site-packages (from llama-index) (0.6.11)\n",
      "Requirement already satisfied: llama-index-llms-openai<0.4,>=0.3.0 in ./jupyter-env/lib/python3.12/site-packages (from llama-index) (0.3.38)\n",
      "Requirement already satisfied: llama-index-multi-modal-llms-openai<0.5,>=0.4.0 in ./jupyter-env/lib/python3.12/site-packages (from llama-index) (0.4.3)\n",
      "Requirement already satisfied: llama-index-program-openai<0.4,>=0.3.0 in ./jupyter-env/lib/python3.12/site-packages (from llama-index) (0.3.1)\n",
      "Requirement already satisfied: llama-index-question-gen-openai<0.4,>=0.3.0 in ./jupyter-env/lib/python3.12/site-packages (from llama-index) (0.3.0)\n",
      "Requirement already satisfied: llama-index-readers-file<0.5,>=0.4.0 in ./jupyter-env/lib/python3.12/site-packages (from llama-index) (0.4.7)\n",
      "Requirement already satisfied: llama-index-readers-llama-parse>=0.4.0 in ./jupyter-env/lib/python3.12/site-packages (from llama-index) (0.4.0)\n",
      "Requirement already satisfied: nltk>3.8.1 in ./jupyter-env/lib/python3.12/site-packages (from llama-index) (3.9.1)\n",
      "Requirement already satisfied: huggingface-hub>=0.19.0 in ./jupyter-env/lib/python3.12/site-packages (from huggingface-hub[inference]>=0.19.0->llama-index-embeddings-huggingface) (0.30.2)\n",
      "Requirement already satisfied: sentence-transformers>=2.6.1 in ./jupyter-env/lib/python3.12/site-packages (from llama-index-embeddings-huggingface) (4.1.0)\n",
      "Requirement already satisfied: transformers<5.0.0,>=4.37.0 in ./jupyter-env/lib/python3.12/site-packages (from transformers[torch]<5.0.0,>=4.37.0->llama-index-llms-huggingface) (4.51.3)\n",
      "Requirement already satisfied: numpy>=1.17 in ./jupyter-env/lib/python3.12/site-packages (from bitsandbytes) (2.2.4)\n",
      "Requirement already satisfied: filelock in ./jupyter-env/lib/python3.12/site-packages (from torch) (3.18.0)\n",
      "Requirement already satisfied: typing-extensions>=4.10.0 in ./jupyter-env/lib/python3.12/site-packages (from torch) (4.12.2)\n",
      "Requirement already satisfied: setuptools in ./jupyter-env/lib/python3.12/site-packages (from torch) (77.0.1)\n",
      "Requirement already satisfied: sympy>=1.13.3 in ./jupyter-env/lib/python3.12/site-packages (from torch) (1.13.3)\n",
      "Requirement already satisfied: networkx in ./jupyter-env/lib/python3.12/site-packages (from torch) (3.4.2)\n",
      "Requirement already satisfied: jinja2 in ./jupyter-env/lib/python3.12/site-packages (from torch) (3.1.6)\n",
      "Requirement already satisfied: fsspec in ./jupyter-env/lib/python3.12/site-packages (from torch) (2025.3.2)\n",
      "Requirement already satisfied: nvidia-cuda-nvrtc-cu12==12.6.77 in ./jupyter-env/lib/python3.12/site-packages (from torch) (12.6.77)\n",
      "Requirement already satisfied: nvidia-cuda-runtime-cu12==12.6.77 in ./jupyter-env/lib/python3.12/site-packages (from torch) (12.6.77)\n",
      "Requirement already satisfied: nvidia-cuda-cupti-cu12==12.6.80 in ./jupyter-env/lib/python3.12/site-packages (from torch) (12.6.80)\n",
      "Requirement already satisfied: nvidia-cudnn-cu12==9.5.1.17 in ./jupyter-env/lib/python3.12/site-packages (from torch) (9.5.1.17)\n",
      "Requirement already satisfied: nvidia-cublas-cu12==12.6.4.1 in ./jupyter-env/lib/python3.12/site-packages (from torch) (12.6.4.1)\n",
      "Requirement already satisfied: nvidia-cufft-cu12==11.3.0.4 in ./jupyter-env/lib/python3.12/site-packages (from torch) (11.3.0.4)\n",
      "Requirement already satisfied: nvidia-curand-cu12==10.3.7.77 in ./jupyter-env/lib/python3.12/site-packages (from torch) (10.3.7.77)\n",
      "Requirement already satisfied: nvidia-cusolver-cu12==11.7.1.2 in ./jupyter-env/lib/python3.12/site-packages (from torch) (11.7.1.2)\n",
      "Requirement already satisfied: nvidia-cusparse-cu12==12.5.4.2 in ./jupyter-env/lib/python3.12/site-packages (from torch) (12.5.4.2)\n",
      "Requirement already satisfied: nvidia-cusparselt-cu12==0.6.3 in ./jupyter-env/lib/python3.12/site-packages (from torch) (0.6.3)\n",
      "Requirement already satisfied: nvidia-nccl-cu12==2.26.2 in ./jupyter-env/lib/python3.12/site-packages (from torch) (2.26.2)\n",
      "Requirement already satisfied: nvidia-nvtx-cu12==12.6.77 in ./jupyter-env/lib/python3.12/site-packages (from torch) (12.6.77)\n",
      "Requirement already satisfied: nvidia-nvjitlink-cu12==12.6.85 in ./jupyter-env/lib/python3.12/site-packages (from torch) (12.6.85)\n",
      "Requirement already satisfied: nvidia-cufile-cu12==1.11.1.6 in ./jupyter-env/lib/python3.12/site-packages (from torch) (1.11.1.6)\n",
      "Requirement already satisfied: triton==3.3.0 in ./jupyter-env/lib/python3.12/site-packages (from torch) (3.3.0)\n",
      "Requirement already satisfied: spacy-legacy<3.1.0,>=3.0.11 in ./jupyter-env/lib/python3.12/site-packages (from spacy) (3.0.12)\n",
      "Requirement already satisfied: spacy-loggers<2.0.0,>=1.0.0 in ./jupyter-env/lib/python3.12/site-packages (from spacy) (1.0.5)\n",
      "Requirement already satisfied: murmurhash<1.1.0,>=0.28.0 in ./jupyter-env/lib/python3.12/site-packages (from spacy) (1.0.12)\n",
      "Requirement already satisfied: cymem<2.1.0,>=2.0.2 in ./jupyter-env/lib/python3.12/site-packages (from spacy) (2.0.11)\n",
      "Requirement already satisfied: preshed<3.1.0,>=3.0.2 in ./jupyter-env/lib/python3.12/site-packages (from spacy) (3.0.9)\n",
      "Requirement already satisfied: thinc<8.4.0,>=8.3.4 in ./jupyter-env/lib/python3.12/site-packages (from spacy) (8.3.6)\n",
      "Requirement already satisfied: wasabi<1.2.0,>=0.9.1 in ./jupyter-env/lib/python3.12/site-packages (from spacy) (1.1.3)\n",
      "Requirement already satisfied: srsly<3.0.0,>=2.4.3 in ./jupyter-env/lib/python3.12/site-packages (from spacy) (2.5.1)\n",
      "Requirement already satisfied: catalogue<2.1.0,>=2.0.6 in ./jupyter-env/lib/python3.12/site-packages (from spacy) (2.0.10)\n",
      "Requirement already satisfied: weasel<0.5.0,>=0.1.0 in ./jupyter-env/lib/python3.12/site-packages (from spacy) (0.4.1)\n",
      "Requirement already satisfied: typer<1.0.0,>=0.3.0 in ./jupyter-env/lib/python3.12/site-packages (from spacy) (0.15.3)\n",
      "Requirement already satisfied: tqdm<5.0.0,>=4.38.0 in ./jupyter-env/lib/python3.12/site-packages (from spacy) (4.67.1)\n",
      "Requirement already satisfied: requests<3.0.0,>=2.13.0 in ./jupyter-env/lib/python3.12/site-packages (from spacy) (2.32.3)\n",
      "Requirement already satisfied: pydantic!=1.8,!=1.8.1,<3.0.0,>=1.7.4 in ./jupyter-env/lib/python3.12/site-packages (from spacy) (2.11.4)\n",
      "Requirement already satisfied: packaging>=20.0 in ./jupyter-env/lib/python3.12/site-packages (from spacy) (24.2)\n",
      "Requirement already satisfied: langcodes<4.0.0,>=3.2.0 in ./jupyter-env/lib/python3.12/site-packages (from spacy) (3.5.0)\n",
      "Requirement already satisfied: scipy>=1.0 in ./jupyter-env/lib/python3.12/site-packages (from hdbscan) (1.15.2)\n",
      "Requirement already satisfied: joblib>=1.0 in ./jupyter-env/lib/python3.12/site-packages (from hdbscan) (1.4.2)\n",
      "Requirement already satisfied: numba>=0.51.2 in ./jupyter-env/lib/python3.12/site-packages (from umap-learn) (0.61.2)\n",
      "Requirement already satisfied: pynndescent>=0.5 in ./jupyter-env/lib/python3.12/site-packages (from umap-learn) (0.5.13)\n",
      "Requirement already satisfied: threadpoolctl>=3.1.0 in ./jupyter-env/lib/python3.12/site-packages (from scikit-learn) (3.6.0)\n",
      "Requirement already satisfied: pyyaml>=5.1 in ./jupyter-env/lib/python3.12/site-packages (from huggingface-hub>=0.19.0->huggingface-hub[inference]>=0.19.0->llama-index-embeddings-huggingface) (6.0.2)\n",
      "Requirement already satisfied: aiohttp in ./jupyter-env/lib/python3.12/site-packages (from huggingface-hub[inference]>=0.19.0->llama-index-embeddings-huggingface) (3.11.18)\n",
      "Requirement already satisfied: language-data>=1.2 in ./jupyter-env/lib/python3.12/site-packages (from langcodes<4.0.0,>=3.2.0->spacy) (1.3.0)\n",
      "Requirement already satisfied: openai>=1.14.0 in ./jupyter-env/lib/python3.12/site-packages (from llama-index-agent-openai<0.5,>=0.4.0->llama-index) (1.78.0)\n",
      "Requirement already satisfied: aiosqlite in ./jupyter-env/lib/python3.12/site-packages (from llama-index-core<0.13,>=0.12.35->llama-index) (0.21.0)\n",
      "Requirement already satisfied: banks<3,>=2.0.0 in ./jupyter-env/lib/python3.12/site-packages (from llama-index-core<0.13,>=0.12.35->llama-index) (2.1.2)\n",
      "Requirement already satisfied: dataclasses-json in ./jupyter-env/lib/python3.12/site-packages (from llama-index-core<0.13,>=0.12.35->llama-index) (0.6.7)\n",
      "Requirement already satisfied: deprecated>=1.2.9.3 in ./jupyter-env/lib/python3.12/site-packages (from llama-index-core<0.13,>=0.12.35->llama-index) (1.2.18)\n",
      "Requirement already satisfied: dirtyjson<2,>=1.0.8 in ./jupyter-env/lib/python3.12/site-packages (from llama-index-core<0.13,>=0.12.35->llama-index) (1.0.8)\n",
      "Requirement already satisfied: filetype<2,>=1.2.0 in ./jupyter-env/lib/python3.12/site-packages (from llama-index-core<0.13,>=0.12.35->llama-index) (1.2.0)\n",
      "Requirement already satisfied: httpx in ./jupyter-env/lib/python3.12/site-packages (from llama-index-core<0.13,>=0.12.35->llama-index) (0.28.1)\n",
      "Requirement already satisfied: nest-asyncio<2,>=1.5.8 in ./jupyter-env/lib/python3.12/site-packages (from llama-index-core<0.13,>=0.12.35->llama-index) (1.6.0)\n",
      "Requirement already satisfied: pillow>=9.0.0 in ./jupyter-env/lib/python3.12/site-packages (from llama-index-core<0.13,>=0.12.35->llama-index) (11.1.0)\n",
      "Requirement already satisfied: sqlalchemy>=1.4.49 in ./jupyter-env/lib/python3.12/site-packages (from sqlalchemy[asyncio]>=1.4.49->llama-index-core<0.13,>=0.12.35->llama-index) (2.0.40)\n",
      "Requirement already satisfied: tenacity!=8.4.0,<10.0.0,>=8.2.0 in ./jupyter-env/lib/python3.12/site-packages (from llama-index-core<0.13,>=0.12.35->llama-index) (9.1.2)\n",
      "Requirement already satisfied: tiktoken>=0.7.0 in ./jupyter-env/lib/python3.12/site-packages (from llama-index-core<0.13,>=0.12.35->llama-index) (0.9.0)\n",
      "Requirement already satisfied: typing-inspect>=0.8.0 in ./jupyter-env/lib/python3.12/site-packages (from llama-index-core<0.13,>=0.12.35->llama-index) (0.9.0)\n",
      "Requirement already satisfied: wrapt in ./jupyter-env/lib/python3.12/site-packages (from llama-index-core<0.13,>=0.12.35->llama-index) (1.17.2)\n",
      "Requirement already satisfied: llama-cloud<0.2.0,>=0.1.13 in ./jupyter-env/lib/python3.12/site-packages (from llama-index-indices-managed-llama-cloud>=0.4.0->llama-index) (0.1.19)\n",
      "Requirement already satisfied: beautifulsoup4<5.0.0,>=4.12.3 in ./jupyter-env/lib/python3.12/site-packages (from llama-index-readers-file<0.5,>=0.4.0->llama-index) (4.13.3)\n",
      "Requirement already satisfied: pandas in ./jupyter-env/lib/python3.12/site-packages (from llama-index-readers-file<0.5,>=0.4.0->llama-index) (2.2.3)\n",
      "Requirement already satisfied: pypdf<6.0.0,>=5.1.0 in ./jupyter-env/lib/python3.12/site-packages (from llama-index-readers-file<0.5,>=0.4.0->llama-index) (5.4.0)\n",
      "Requirement already satisfied: striprtf<0.0.27,>=0.0.26 in ./jupyter-env/lib/python3.12/site-packages (from llama-index-readers-file<0.5,>=0.4.0->llama-index) (0.0.26)\n",
      "Requirement already satisfied: llama-parse>=0.5.0 in ./jupyter-env/lib/python3.12/site-packages (from llama-index-readers-llama-parse>=0.4.0->llama-index) (0.6.22)\n",
      "Requirement already satisfied: click in ./jupyter-env/lib/python3.12/site-packages (from nltk>3.8.1->llama-index) (8.1.8)\n",
      "Requirement already satisfied: regex>=2021.8.3 in ./jupyter-env/lib/python3.12/site-packages (from nltk>3.8.1->llama-index) (2024.11.6)\n",
      "Requirement already satisfied: llvmlite<0.45,>=0.44.0dev0 in ./jupyter-env/lib/python3.12/site-packages (from numba>=0.51.2->umap-learn) (0.44.0)\n",
      "Requirement already satisfied: annotated-types>=0.6.0 in ./jupyter-env/lib/python3.12/site-packages (from pydantic!=1.8,!=1.8.1,<3.0.0,>=1.7.4->spacy) (0.7.0)\n",
      "Requirement already satisfied: pydantic-core==2.33.2 in ./jupyter-env/lib/python3.12/site-packages (from pydantic!=1.8,!=1.8.1,<3.0.0,>=1.7.4->spacy) (2.33.2)\n",
      "Requirement already satisfied: typing-inspection>=0.4.0 in ./jupyter-env/lib/python3.12/site-packages (from pydantic!=1.8,!=1.8.1,<3.0.0,>=1.7.4->spacy) (0.4.0)\n",
      "Requirement already satisfied: charset-normalizer<4,>=2 in ./jupyter-env/lib/python3.12/site-packages (from requests<3.0.0,>=2.13.0->spacy) (3.4.1)\n",
      "Requirement already satisfied: idna<4,>=2.5 in ./jupyter-env/lib/python3.12/site-packages (from requests<3.0.0,>=2.13.0->spacy) (3.10)\n",
      "Requirement already satisfied: urllib3<3,>=1.21.1 in ./jupyter-env/lib/python3.12/site-packages (from requests<3.0.0,>=2.13.0->spacy) (2.3.0)\n",
      "Requirement already satisfied: certifi>=2017.4.17 in ./jupyter-env/lib/python3.12/site-packages (from requests<3.0.0,>=2.13.0->spacy) (2025.1.31)\n",
      "Requirement already satisfied: mpmath<1.4,>=1.1.0 in ./jupyter-env/lib/python3.12/site-packages (from sympy>=1.13.3->torch) (1.3.0)\n",
      "Requirement already satisfied: blis<1.4.0,>=1.3.0 in ./jupyter-env/lib/python3.12/site-packages (from thinc<8.4.0,>=8.3.4->spacy) (1.3.0)\n",
      "Requirement already satisfied: confection<1.0.0,>=0.0.1 in ./jupyter-env/lib/python3.12/site-packages (from thinc<8.4.0,>=8.3.4->spacy) (0.1.5)\n",
      "Requirement already satisfied: tokenizers<0.22,>=0.21 in ./jupyter-env/lib/python3.12/site-packages (from transformers<5.0.0,>=4.37.0->transformers[torch]<5.0.0,>=4.37.0->llama-index-llms-huggingface) (0.21.1)\n",
      "Requirement already satisfied: safetensors>=0.4.3 in ./jupyter-env/lib/python3.12/site-packages (from transformers<5.0.0,>=4.37.0->transformers[torch]<5.0.0,>=4.37.0->llama-index-llms-huggingface) (0.5.3)\n",
      "Requirement already satisfied: accelerate>=0.26.0 in ./jupyter-env/lib/python3.12/site-packages (from transformers[torch]<5.0.0,>=4.37.0->llama-index-llms-huggingface) (1.6.0)\n",
      "Requirement already satisfied: shellingham>=1.3.0 in ./jupyter-env/lib/python3.12/site-packages (from typer<1.0.0,>=0.3.0->spacy) (1.5.4)\n",
      "Requirement already satisfied: rich>=10.11.0 in ./jupyter-env/lib/python3.12/site-packages (from typer<1.0.0,>=0.3.0->spacy) (14.0.0)\n",
      "Requirement already satisfied: cloudpathlib<1.0.0,>=0.7.0 in ./jupyter-env/lib/python3.12/site-packages (from weasel<0.5.0,>=0.1.0->spacy) (0.21.0)\n",
      "Requirement already satisfied: smart-open<8.0.0,>=5.2.1 in ./jupyter-env/lib/python3.12/site-packages (from weasel<0.5.0,>=0.1.0->spacy) (7.1.0)\n",
      "Requirement already satisfied: MarkupSafe>=2.0 in ./jupyter-env/lib/python3.12/site-packages (from jinja2->torch) (3.0.2)\n",
      "Requirement already satisfied: psutil in ./jupyter-env/lib/python3.12/site-packages (from accelerate>=0.26.0->transformers[torch]<5.0.0,>=4.37.0->llama-index-llms-huggingface) (7.0.0)\n",
      "Requirement already satisfied: aiohappyeyeballs>=2.3.0 in ./jupyter-env/lib/python3.12/site-packages (from aiohttp->huggingface-hub[inference]>=0.19.0->llama-index-embeddings-huggingface) (2.6.1)\n",
      "Requirement already satisfied: aiosignal>=1.1.2 in ./jupyter-env/lib/python3.12/site-packages (from aiohttp->huggingface-hub[inference]>=0.19.0->llama-index-embeddings-huggingface) (1.3.2)\n",
      "Requirement already satisfied: attrs>=17.3.0 in ./jupyter-env/lib/python3.12/site-packages (from aiohttp->huggingface-hub[inference]>=0.19.0->llama-index-embeddings-huggingface) (25.3.0)\n",
      "Requirement already satisfied: frozenlist>=1.1.1 in ./jupyter-env/lib/python3.12/site-packages (from aiohttp->huggingface-hub[inference]>=0.19.0->llama-index-embeddings-huggingface) (1.6.0)\n",
      "Requirement already satisfied: multidict<7.0,>=4.5 in ./jupyter-env/lib/python3.12/site-packages (from aiohttp->huggingface-hub[inference]>=0.19.0->llama-index-embeddings-huggingface) (6.4.3)\n",
      "Requirement already satisfied: propcache>=0.2.0 in ./jupyter-env/lib/python3.12/site-packages (from aiohttp->huggingface-hub[inference]>=0.19.0->llama-index-embeddings-huggingface) (0.3.1)\n",
      "Requirement already satisfied: yarl<2.0,>=1.17.0 in ./jupyter-env/lib/python3.12/site-packages (from aiohttp->huggingface-hub[inference]>=0.19.0->llama-index-embeddings-huggingface) (1.20.0)\n",
      "Requirement already satisfied: griffe in ./jupyter-env/lib/python3.12/site-packages (from banks<3,>=2.0.0->llama-index-core<0.13,>=0.12.35->llama-index) (1.7.3)\n",
      "Requirement already satisfied: platformdirs in ./jupyter-env/lib/python3.12/site-packages (from banks<3,>=2.0.0->llama-index-core<0.13,>=0.12.35->llama-index) (4.3.7)\n",
      "Requirement already satisfied: soupsieve>1.2 in ./jupyter-env/lib/python3.12/site-packages (from beautifulsoup4<5.0.0,>=4.12.3->llama-index-readers-file<0.5,>=0.4.0->llama-index) (2.6)\n",
      "Requirement already satisfied: marisa-trie>=1.1.0 in ./jupyter-env/lib/python3.12/site-packages (from language-data>=1.2->langcodes<4.0.0,>=3.2.0->spacy) (1.2.1)\n",
      "Requirement already satisfied: anyio in ./jupyter-env/lib/python3.12/site-packages (from httpx->llama-index-core<0.13,>=0.12.35->llama-index) (4.9.0)\n",
      "Requirement already satisfied: httpcore==1.* in ./jupyter-env/lib/python3.12/site-packages (from httpx->llama-index-core<0.13,>=0.12.35->llama-index) (1.0.7)\n",
      "Requirement already satisfied: h11<0.15,>=0.13 in ./jupyter-env/lib/python3.12/site-packages (from httpcore==1.*->httpx->llama-index-core<0.13,>=0.12.35->llama-index) (0.14.0)\n",
      "Requirement already satisfied: llama-cloud-services>=0.6.22 in ./jupyter-env/lib/python3.12/site-packages (from llama-parse>=0.5.0->llama-index-readers-llama-parse>=0.4.0->llama-index) (0.6.22)\n",
      "Requirement already satisfied: distro<2,>=1.7.0 in ./jupyter-env/lib/python3.12/site-packages (from openai>=1.14.0->llama-index-agent-openai<0.5,>=0.4.0->llama-index) (1.9.0)\n",
      "Requirement already satisfied: jiter<1,>=0.4.0 in ./jupyter-env/lib/python3.12/site-packages (from openai>=1.14.0->llama-index-agent-openai<0.5,>=0.4.0->llama-index) (0.9.0)\n",
      "Requirement already satisfied: sniffio in ./jupyter-env/lib/python3.12/site-packages (from openai>=1.14.0->llama-index-agent-openai<0.5,>=0.4.0->llama-index) (1.3.1)\n",
      "Requirement already satisfied: markdown-it-py>=2.2.0 in ./jupyter-env/lib/python3.12/site-packages (from rich>=10.11.0->typer<1.0.0,>=0.3.0->spacy) (3.0.0)\n",
      "Requirement already satisfied: pygments<3.0.0,>=2.13.0 in ./jupyter-env/lib/python3.12/site-packages (from rich>=10.11.0->typer<1.0.0,>=0.3.0->spacy) (2.19.1)\n",
      "Requirement already satisfied: greenlet>=1 in ./jupyter-env/lib/python3.12/site-packages (from sqlalchemy>=1.4.49->sqlalchemy[asyncio]>=1.4.49->llama-index-core<0.13,>=0.12.35->llama-index) (3.2.2)\n",
      "Requirement already satisfied: mypy-extensions>=0.3.0 in ./jupyter-env/lib/python3.12/site-packages (from typing-inspect>=0.8.0->llama-index-core<0.13,>=0.12.35->llama-index) (1.1.0)\n",
      "Requirement already satisfied: marshmallow<4.0.0,>=3.18.0 in ./jupyter-env/lib/python3.12/site-packages (from dataclasses-json->llama-index-core<0.13,>=0.12.35->llama-index) (3.26.1)\n",
      "Requirement already satisfied: python-dateutil>=2.8.2 in ./jupyter-env/lib/python3.12/site-packages (from pandas->llama-index-readers-file<0.5,>=0.4.0->llama-index) (2.9.0.post0)\n",
      "Requirement already satisfied: pytz>=2020.1 in ./jupyter-env/lib/python3.12/site-packages (from pandas->llama-index-readers-file<0.5,>=0.4.0->llama-index) (2025.1)\n",
      "Requirement already satisfied: tzdata>=2022.7 in ./jupyter-env/lib/python3.12/site-packages (from pandas->llama-index-readers-file<0.5,>=0.4.0->llama-index) (2025.1)\n",
      "Requirement already satisfied: python-dotenv<2.0.0,>=1.0.1 in ./jupyter-env/lib/python3.12/site-packages (from llama-cloud-services>=0.6.22->llama-parse>=0.5.0->llama-index-readers-llama-parse>=0.4.0->llama-index) (1.1.0)\n",
      "Requirement already satisfied: mdurl~=0.1 in ./jupyter-env/lib/python3.12/site-packages (from markdown-it-py>=2.2.0->rich>=10.11.0->typer<1.0.0,>=0.3.0->spacy) (0.1.2)\n",
      "Requirement already satisfied: six>=1.5 in ./jupyter-env/lib/python3.12/site-packages (from python-dateutil>=2.8.2->pandas->llama-index-readers-file<0.5,>=0.4.0->llama-index) (1.17.0)\n",
      "Requirement already satisfied: colorama>=0.4 in ./jupyter-env/lib/python3.12/site-packages (from griffe->banks<3,>=2.0.0->llama-index-core<0.13,>=0.12.35->llama-index) (0.4.6)\n",
      "Collecting en-core-web-lg==3.8.0\n",
      "  Downloading https://github.com/explosion/spacy-models/releases/download/en_core_web_lg-3.8.0/en_core_web_lg-3.8.0-py3-none-any.whl (400.7 MB)\n",
      "\u001b[2K     \u001b[90m━━━━━━━━━━━━━━━━━━━━━━━━━━━━━━━━━━━━━━\u001b[0m \u001b[32m400.7/400.7 MB\u001b[0m \u001b[31m12.5 MB/s\u001b[0m eta \u001b[36m0:00:00\u001b[0m00:01\u001b[0m00:01\u001b[0m\n",
      "\u001b[?25h\u001b[38;5;2m✔ Download and installation successful\u001b[0m\n",
      "You can now load the package via spacy.load('en_core_web_lg')\n"
     ]
    }
   ],
   "source": [
    "!pip install llama-index llama-index-embeddings-huggingface llama-index-llms-huggingface bitsandbytes torch spacy hdbscan umap-learn scikit-learn\n",
    "!python -m spacy download en_core_web_lg"
   ]
  },
  {
   "cell_type": "code",
   "execution_count": 2,
   "id": "78c774c9-63dc-4075-88b6-d8393910f776",
   "metadata": {},
   "outputs": [],
   "source": [
    "# =========================\n",
    "# 1. Imports and Setup\n",
    "# =========================\n",
    "\n",
    "import os\n",
    "import pandas as pd\n",
    "import numpy as np\n",
    "import json\n",
    "import re, string\n",
    "import unicodedata\n",
    "from tqdm import tqdm\n",
    "import nltk\n",
    "from nltk.corpus import stopwords\n",
    "from matplotlib import pyplot as plt\n",
    "import torch\n",
    "from sklearn.cluster import KMeans\n",
    "\n",
    "from llama_index.core import Settings, Document, StorageContext, VectorStoreIndex, load_index_from_storage\n",
    "from llama_index.embeddings.huggingface import HuggingFaceEmbedding\n",
    "from llama_index.llms.huggingface import HuggingFaceLLM\n",
    "from llama_index.core.memory import ChatMemoryBuffer\n",
    "from llama_index.core.postprocessor import MetadataReplacementPostProcessor\n",
    "\n",
    "from sklearn.feature_extraction.text import TfidfVectorizer, CountVectorizer\n",
    "from sklearn.metrics.pairwise import cosine_similarity\n",
    "\n",
    "import spacy\n",
    "\n",
    "from sentence_transformers import SentenceTransformer     # or use TF-IDF if you prefer\n",
    "# Dimensionality reduction & clustering\n",
    "import umap.umap_ as umap\n",
    "import seaborn as sns\n",
    "import hdbscan\n",
    "from concurrent.futures import ThreadPoolExecutor, as_completed"
   ]
  },
  {
   "cell_type": "code",
   "execution_count": null,
   "id": "34f2c3fa-937e-426b-971c-74903f02b399",
   "metadata": {},
   "outputs": [
    {
     "name": "stdout",
     "output_type": "stream",
     "text": [
      "Device: cuda\n",
      "Current working directory: /home/anton/jupyter-env/nlp-project\n"
     ]
    },
    {
     "name": "stderr",
     "output_type": "stream",
     "text": [
      "[nltk_data] Downloading package punkt to /home/anton/nltk_data...\n",
      "[nltk_data]   Package punkt is already up-to-date!\n",
      "[nltk_data] Downloading package stopwords to /home/anton/nltk_data...\n",
      "[nltk_data]   Package stopwords is already up-to-date!\n"
     ]
    }
   ],
   "source": [
    "# =========================\n",
    "# 2. Configuration\n",
    "# =========================\n",
    "\n",
    "device = 'cuda' if torch.cuda.is_available() else 'cpu'\n",
    "print(\"Device:\", device)\n",
    "base_path = \"/home/anton/jupyter-env/nlp-project\"\n",
    "os.chdir(base_path)\n",
    "\n",
    "# print pwd\n",
    "print(\"Current working directory:\", os.getcwd())\n",
    "\n",
    "nltk.download('punkt')\n",
    "nltk.download('stopwords')\n",
    "stop_words = set(stopwords.words('english'))\n",
    "\n",
    "tqdm.pandas()\n",
    "\n",
    "model_name_embed = \"sentence-transformers/all-MiniLM-L6-v2\"\n",
    "model_name_llm = \"TinyLlama/TinyLlama-1.1B-Chat-v1.0\"\n",
    "chunk_size = 200\n",
    "persist_dir = \"storage2\"\n",
    "\n",
    "# Switch: Use vector DB or not\n",
    "USE_VECTOR_DB = True  # Set to False to run agent without vector DB"
   ]
  },
  {
   "cell_type": "code",
   "execution_count": null,
   "id": "88d6e2e9-d80b-438e-b7aa-b0cea1397238",
   "metadata": {},
   "outputs": [],
   "source": [
    "# =========================\n",
    "# 3. Data Loading & Filtering\n",
    "# =========================\n",
    "\n",
    "metadata_path = \"metadata.csv\"\n",
    "metadata = pd.read_csv(metadata_path, dtype=str)\n",
    "\n",
    "smoking_keywords = [\n",
    "    \"smoking\", \"smoker\", \"smoke\", \"ecigarett\", \"cigarett\", \"tobacco\", \"cigarette\", \"nicotine\",\n",
    "    \"vaping\", \"vape\", \"e-cigarette\", \"cigar\", \"weed\", \"marijuana\"\n",
    "]\n",
    "covid_terms = [\"covid\", \"sars-cov-2\", \"coronavirus\"]\n",
    "\n",
    "columns_to_keep = ['cord_uid', 'title', 'abstract', 'publish_time', 'source_x', 'authors', 'pdf_json_files']\n",
    "metadata = metadata[columns_to_keep]\n",
    "\n",
    "metadata['combined_text'] = (\n",
    "    metadata['title'].fillna('') + '. ' +\n",
    "    metadata['abstract'].fillna('') + '. '\n",
    ")"
   ]
  },
  {
   "cell_type": "code",
   "execution_count": 9,
   "id": "f7eefb32",
   "metadata": {},
   "outputs": [
    {
     "name": "stdout",
     "output_type": "stream",
     "text": [
      "<class 'pandas.core.frame.DataFrame'>\n",
      "Index: 326684 entries, 0 to 1056659\n",
      "Data columns (total 9 columns):\n",
      " #   Column          Non-Null Count   Dtype \n",
      "---  ------          --------------   ----- \n",
      " 0   cord_uid        326684 non-null  object\n",
      " 1   title           326684 non-null  object\n",
      " 2   abstract        326684 non-null  object\n",
      " 3   publish_time    326684 non-null  object\n",
      " 4   source_x        326684 non-null  object\n",
      " 5   authors         325854 non-null  object\n",
      " 6   pdf_json_files  326684 non-null  object\n",
      " 7   pmc_json_files  263444 non-null  object\n",
      " 8   combined_text   326684 non-null  object\n",
      "dtypes: object(9)\n",
      "memory usage: 24.9+ MB\n"
     ]
    }
   ],
   "source": [
    "# remove rows with NaN in 'abstract' or 'title', pdf_json_files\n",
    "metadata = metadata.dropna(subset=['abstract', 'title', 'pdf_json_files'])\n",
    "metadata.info()"
   ]
  },
  {
   "cell_type": "code",
   "execution_count": null,
   "id": "fcaf303a",
   "metadata": {},
   "outputs": [
    {
     "name": "stdout",
     "output_type": "stream",
     "text": [
      "                              cord_uid                           title  \\\n",
      "326766       NDIGOC092507_2020_004.pdf       NDIGOC092507_2020_004.pdf   \n",
      "326767          s41598-021-98749-4.pdf          s41598-021-98749-4.pdf   \n",
      "326768  2020.06.01.20118877v2.full.pdf  2020.06.01.20118877v2.full.pdf   \n",
      "326769          s42003-021-02685-y.pdf          s42003-021-02685-y.pdf   \n",
      "326770                      VGJCUN.pdf                      VGJCUN.pdf   \n",
      "\n",
      "       abstract publish_time source_x authors pdf_json_files pmc_json_files  \\\n",
      "326766     None         None     None    None           None           None   \n",
      "326767     None         None     None    None           None           None   \n",
      "326768     None         None     None    None           None           None   \n",
      "326769     None         None     None    None           None           None   \n",
      "326770     None         None     None    None           None           None   \n",
      "\n",
      "       combined_text                                          full_text  \n",
      "326766          None  editorial diagnosis of sarcoidosis the updated...  \n",
      "326767          None  1 vol scientific reports  1119251  httpsdoiorg...  \n",
      "326768          None  1 smoking and the risk of covid19 in a large o...  \n",
      "326769          None  article smoking is significantly associated wi...  \n",
      "326770          None  open peer review on qeios smoking and covid19 ...  \n"
     ]
    }
   ],
   "source": [
    "# =========================\n",
    "# 5. Read external papers. {name: text, name: text, ...}\n",
    "# =========================\n",
    "\n",
    "external_papers_path = \"extracted_texts.json\"\n",
    "if os.path.exists(external_papers_path):\n",
    "    with open(external_papers_path, 'r') as f:\n",
    "        external_papers = json.load(f)\n",
    "else:\n",
    "    external_papers = {}\n",
    "\n",
    "\n",
    "new_rows = []\n",
    "for name, text in external_papers.items():\n",
    "    new_rows.append({\n",
    "        'cord_uid': name,\n",
    "        'title': name,\n",
    "        'full_text': text\n",
    "    })\n",
    "\n",
    "# Convert to DataFrame with the same columns as metadata\n",
    "new_df = pd.DataFrame(new_rows)\n",
    "\n",
    "\n",
    "# Add any missing columns from metadata with None values\n",
    "for col in metadata.columns:\n",
    "    if col not in new_df.columns:\n",
    "        new_df[col] = None\n",
    "\n",
    "# Concatenate the DataFrames\n",
    "extended_papers = pd.concat([metadata, new_df], ignore_index=True)\n",
    "\n",
    "punct_table = str.maketrans(\"\", \"\", string.punctuation)\n",
    "def clean_text(text):\n",
    "    if not isinstance(text, str):\n",
    "        return text\n",
    "    text = unicodedata.normalize(\"NFKC\", text)\n",
    "    text = text.encode(\"utf-8\", \"ignore\").decode(\"utf-8\", \"ignore\")\n",
    "    text = re.sub(r\"<[^>]+>\", \" \", text)\n",
    "    text = re.sub(r\"\\$.*?\\$\", \" \", text)\n",
    "    text = re.sub(r\"\\[\\d+\\]|\\(\\d+\\)\", \" \", text)\n",
    "    text = re.sub(r\"[^\\x20-\\x7E]\", \" \", text)\n",
    "    text = re.sub(r\"\\s+\", \" \", text)\n",
    "    text = text.lower().strip()\n",
    "    text = text.translate(punct_table)\n",
    "    return text\n",
    "\n",
    "extended_papers['combined_text'] = extended_papers['combined_text'].apply(clean_text)\n",
    "extended_papers['full_text'] = extended_papers['full_text'].apply(clean_text)\n",
    "\n",
    "# print last 5 rows of the extended_papers DataFrame\n",
    "print(extended_papers.tail())"
   ]
  },
  {
   "cell_type": "code",
   "execution_count": null,
   "id": "f9073e3a",
   "metadata": {},
   "outputs": [
    {
     "data": {
      "image/png": "[encoded data removed]",
      "text/plain": [
       "<Figure size 800x400 with 1 Axes>"
      ]
     },
     "metadata": {},
     "output_type": "display_data"
    }
   ],
   "source": [
    "# --- Outlier Detection (Text Length) ---\n",
    "plt.figure(figsize=(8, 4))\n",
    "plt.hist(extended_papers['combined_text'].str.len(), bins=50, color='skyblue')\n",
    "plt.title(\"Distribution of Document Lengths\")\n",
    "plt.xlabel(\"Text Length\")\n",
    "plt.ylabel(\"Count\")\n",
    "plt.show()"
   ]
  },
  {
   "cell_type": "code",
   "execution_count": null,
   "id": "6d93edfa",
   "metadata": {},
   "outputs": [
    {
     "name": "stdout",
     "output_type": "stream",
     "text": [
      "Number of unique characters in combined_text: 37\n",
      "Unique characters in combined_text: [' ', '0', '1', '2', '3', '4', '5', '6', '7', '8', '9', 'a', 'b', 'c', 'd', 'e', 'f', 'g', 'h', 'i', 'j', 'k', 'l', 'm', 'n', 'o', 'p', 'q', 'r', 's', 't', 'u', 'v', 'w', 'x', 'y', 'z']\n"
     ]
    }
   ],
   "source": [
    "# How many uniques characters in the combined_text?\n",
    "unique_chars = set(''.join(extended_papers['combined_text'].dropna()))\n",
    "sorted_unique_chars = sorted(unique_chars)\n",
    "print(f\"Number of unique characters in combined_text: {len(sorted_unique_chars)}\")\n",
    "print(\"Unique characters in combined_text:\", sorted_unique_chars)"
   ]
  },
  {
   "cell_type": "code",
   "execution_count": null,
   "id": "eafd6f25",
   "metadata": {},
   "outputs": [
    {
     "name": "stdout",
     "output_type": "stream",
     "text": [
      "Text Length Statistics:\n",
      "count    326684.000000\n",
      "mean       1519.434245\n",
      "std         650.442320\n",
      "min          16.000000\n",
      "25%        1150.000000\n",
      "50%        1508.000000\n",
      "75%        1839.000000\n",
      "max      117762.000000\n",
      "Name: text_length, dtype: float64\n",
      "Word Count Statistics:\n",
      "count    326771.000000\n",
      "mean        225.212455\n",
      "std          98.155800\n",
      "min           0.000000\n",
      "25%         168.000000\n",
      "50%         222.000000\n",
      "75%         272.000000\n",
      "max       18038.000000\n",
      "Name: word_count, dtype: float64\n"
     ]
    }
   ],
   "source": [
    "# count in each row character and wors, create new columns\n",
    "extended_papers['text_length'] = extended_papers['combined_text'].str.len()\n",
    "extended_papers['word_count'] = extended_papers['combined_text'].apply(lambda x: len(x.split()) if pd.notna(x) else 0)\n",
    "# print statustics of the text_length and word_count columns\n",
    "print(\"Text Length Statistics:\")\n",
    "print(extended_papers['text_length'].describe())\n",
    "print(\"Word Count Statistics:\")\n",
    "print(extended_papers['word_count'].describe())"
   ]
  },
  {
   "cell_type": "code",
   "execution_count": 57,
   "id": "953012bd",
   "metadata": {},
   "outputs": [
    {
     "data": {
      "image/png": "[encoded data removed]",
      "text/plain": [
       "<Figure size 800x400 with 1 Axes>"
      ]
     },
     "metadata": {},
     "output_type": "display_data"
    }
   ],
   "source": [
    "# Create a diagram of the text length and word count grouped by statistics under 25%, between 25% and 75%, above 75%, and very long above 95%\n",
    "q25 = extended_papers['text_length'].quantile(0.25)\n",
    "q75 = extended_papers['text_length'].quantile(0.75)\n",
    "q95 = extended_papers['text_length'].quantile(0.95)\n",
    "\n",
    "def categorize_length(row):\n",
    "    if row['text_length'] > q95:\n",
    "        return 'Very Long'\n",
    "    elif row['text_length'] > q75:\n",
    "        return 'Long'\n",
    "    elif row['text_length'] < q25:\n",
    "        return 'Short'\n",
    "    else:\n",
    "        return 'Medium'\n",
    "\n",
    "extended_papers['length_category'] = extended_papers.apply(categorize_length, axis=1)\n",
    "# Count the number of papers in each category\n",
    "length_counts = extended_papers['length_category'].value_counts().reindex(['Short', 'Medium', 'Long', 'Very Long'])\n",
    "# Plot the counts\n",
    "plt.figure(figsize=(8, 4))\n",
    "length_counts.plot(kind='bar', color='skyblue')\n",
    "plt.title(\"Number of Papers by Length Category\")\n",
    "plt.xlabel(\"Length Category\")\n",
    "plt.ylabel(\"Number of Papers\")\n",
    "plt.xticks(rotation=0)\n",
    "plt.show()"
   ]
  },
  {
   "cell_type": "code",
   "execution_count": 58,
   "id": "4ba5b79b-be67-4bf1-b883-81839ec5f74e",
   "metadata": {},
   "outputs": [
    {
     "name": "stdout",
     "output_type": "stream",
     "text": [
      "<class 'pandas.core.frame.DataFrame'>\n",
      "Index: 326400 entries, 0 to 326683\n",
      "Data columns (total 13 columns):\n",
      " #   Column           Non-Null Count   Dtype  \n",
      "---  ------           --------------   -----  \n",
      " 0   cord_uid         326400 non-null  object \n",
      " 1   title            326400 non-null  object \n",
      " 2   abstract         326400 non-null  object \n",
      " 3   publish_time     326400 non-null  object \n",
      " 4   source_x         326400 non-null  object \n",
      " 5   authors          325584 non-null  object \n",
      " 6   pdf_json_files   326400 non-null  object \n",
      " 7   pmc_json_files   263239 non-null  object \n",
      " 8   combined_text    326400 non-null  object \n",
      " 9   full_text        0 non-null       object \n",
      " 10  text_length      326400 non-null  float64\n",
      " 11  word_count       326400 non-null  int64  \n",
      " 12  length_category  326400 non-null  object \n",
      "dtypes: float64(1), int64(1), object(11)\n",
      "memory usage: 34.9+ MB\n"
     ]
    }
   ],
   "source": [
    "extended_papers = extended_papers[\n",
    "    (extended_papers['text_length'] > 100) & (extended_papers['text_length'] < 10000)\n",
    "]\n",
    "extended_papers.info()"
   ]
  },
  {
   "cell_type": "code",
   "execution_count": null,
   "id": "a523c9f3",
   "metadata": {},
   "outputs": [],
   "source": [
    "# export to CSV\n",
    "extended_papers.to_csv(\"basic_filtered_papers.csv\", index=False)"
   ]
  },
  {
   "cell_type": "code",
   "execution_count": null,
   "id": "357a6f92",
   "metadata": {},
   "outputs": [
    {
     "name": "stdout",
     "output_type": "stream",
     "text": [
      "Encoding topic embeddings...\n"
     ]
    },
    {
     "data": {
      "application/vnd.jupyter.widget-view+json": {
       "model_id": "7e8e3fc967d6497ab1fb7594878ae654",
       "version_major": 2,
       "version_minor": 0
      },
      "text/plain": [
       "Batches:   0%|          | 0/1 [00:00<?, ?it/s]"
      ]
     },
     "metadata": {},
     "output_type": "display_data"
    },
    {
     "name": "stdout",
     "output_type": "stream",
     "text": [
      "Encoding article embeddings...\n"
     ]
    },
    {
     "name": "stderr",
     "output_type": "stream",
     "text": [
      "Encoding Articles: 100%|███████████████████████████████████████████████████| 326400/326400 [00:00<00:00, 2536929.13it/s]\n"
     ]
    },
    {
     "name": "stdout",
     "output_type": "stream",
     "text": [
      "Calculating similarities...\n"
     ]
    }
   ],
   "source": [
    "import pandas as pd\n",
    "import numpy as np\n",
    "import matplotlib.pyplot as plt\n",
    "import seaborn as sns\n",
    "from umap import UMAP\n",
    "from sentence_transformers import SentenceTransformer\n",
    "from tqdm import tqdm\n",
    "import torch\n",
    "\n",
    "# Copy dataset\n",
    "df = extended_papers.copy()\n",
    "\n",
    "# Load model and move to CUDA if available\n",
    "device = 'cuda' if torch.cuda.is_available() else 'cpu'\n",
    "model = SentenceTransformer('all-MiniLM-L6-v2', device=device)\n",
    "\n",
    "# Create topic embeddings with tqdm\n",
    "smoking_topic = \" \".join(smoking_keywords)\n",
    "covid_topic = \" \".join(covid_terms)\n",
    "\n",
    "print(\"Encoding topic embeddings...\")\n",
    "topic_embeddings = model.encode(\n",
    "    [smoking_topic, covid_topic],\n",
    "    convert_to_tensor=True,\n",
    "    show_progress_bar=True,\n",
    "    device=device\n",
    ")\n",
    "\n",
    "# Encode article embeddings with tqdm\n",
    "print(\"Encoding article embeddings...\")\n",
    "article_embeddings = model.encode(\n",
    "    list(tqdm(df['combined_text'], desc=\"Encoding Articles\")),\n",
    "    convert_to_tensor=True,\n",
    "    show_progress_bar=False,\n",
    "    device=device\n",
    ")\n",
    "\n",
    "# Compute cosine similarity using PyTorch (faster on GPU)\n",
    "print(\"Calculating similarities...\")\n",
    "similarities = torch.nn.functional.cosine_similarity(\n",
    "    article_embeddings.unsqueeze(1),  # shape: [N, 1, D]\n",
    "    topic_embeddings.unsqueeze(0),    # shape: [1, 2, D]\n",
    "    dim=-1\n",
    ").cpu().numpy()\n",
    "\n",
    "# Add similarity scores to DataFrame\n",
    "df['smoking_similarity'] = similarities[:, 0]\n",
    "df['covid_similarity'] = similarities[:, 1]\n",
    "\n",
    "# Categorization\n",
    "threshold = 0.3\n",
    "def categorize_article(row):\n",
    "    smoking = row['smoking_similarity'] > threshold\n",
    "    covid = row['covid_similarity'] > threshold\n",
    "    if smoking and covid:\n",
    "        return \"Both\"\n",
    "    elif smoking:\n",
    "        return \"Smoking\"\n",
    "    elif covid:\n",
    "        return \"COVID\"\n",
    "    else:\n",
    "        return \"Other\"\n",
    "\n",
    "df['category'] = df.apply(categorize_article, axis=1)\n",
    "\n"
   ]
  },
  {
   "cell_type": "code",
   "execution_count": null,
   "id": "99a76e06",
   "metadata": {},
   "outputs": [],
   "source": [
    "# save the DataFrame with similarity scores and categories\n",
    "df = df[['cord_uid', 'title', 'abstract', 'publish_time', 'authors', 'pdf_json_files', 'smoking_similarity', 'covid_similarity', 'category']]\n",
    "df.to_csv(\"articles_with_similarity_and_categories.csv\", index=False)"
   ]
  }
 ],
 "metadata": {
  "kernelspec": {
   "display_name": "Python 3 (ipykernel)",
   "language": "python",
   "name": "python3"
  }
 },
 "nbformat": 4,
 "nbformat_minor": 5
}
