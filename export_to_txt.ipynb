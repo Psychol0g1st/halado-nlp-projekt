{
 "cells": [
  {
   "cell_type": "code",
   "execution_count": 4,
   "id": "3a31b905",
   "metadata": {},
   "outputs": [],
   "source": [
    "import pandas as pd\n",
    "import os\n",
    "\n",
    "# Read the CSV file\n",
    "df = pd.read_csv('/home/anton/jupyter-env/nlp-project/filtered_papers.csv')\n",
    "\n",
    "# Ensure output directory exists\n",
    "output_dir = '/home/anton/jupyter-env/nlp-project/papers_txt'\n",
    "os.makedirs(output_dir, exist_ok=True)\n",
    "\n",
    "# Select the first 50 rows (or less if not enough rows)\n",
    "subset = df.head(50)\n",
    "\n",
    "# Export each row to a separate txt file\n",
    "for idx, row in subset.iterrows():\n",
    "    filename = os.path.join(output_dir, f'paper_{idx+1}.txt')\n",
    "    with open(filename, 'w', encoding='utf-8') as f:\n",
    "        f.write(f\"Title: {row['title']}\\n\\n\")\n",
    "        f.write(f\"Abstract: {row['abstract']}\\n\\n\")\n",
    "        f.write(f\"Full Text: {row['full_text']}\\n\")"
   ]
  }
 ],
 "metadata": {
  "kernelspec": {
   "display_name": "Python 3 (ipykernel)",
   "language": "python",
   "name": "python3"
  },
  "language_info": {
   "codemirror_mode": {
    "name": "ipython",
    "version": 3
   },
   "file_extension": ".py",
   "mimetype": "text/x-python",
   "name": "python",
   "nbconvert_exporter": "python",
   "pygments_lexer": "ipython3",
   "version": "3.12.3"
  }
 },
 "nbformat": 4,
 "nbformat_minor": 5
}
