{
 "cells": [
  {
   "cell_type": "markdown",
   "id": "837d39f2-8a89-456b-a7b6-ccab48411f74",
   "metadata": {},
   "source": [
    "# 🔍 Projekt: Ágens fejlesztése a dohányzás, COVID-19 és szív- és érrendszeri betegségek kutatására\n",
    "## Haldó NLP kurzus – Jupyter notebook\n",
    "Ebben a projektben egy olyan intelligens ágenst fejlesztünk, amely a **CORD-19** adatbázis tudományos cikkeit használja fel annak vizsgálatára, hogy milyen kapcsolat van:\n",
    "\n",
    "- a **dohányzás**,\n",
    "- a **COVID-19** és\n",
    "- a **szív- és érrendszeri betegségek** között.\n",
    "\n",
    "A rendszer képes lesz:\n",
    "- válaszolni természetes nyelvű kérdésekre ezekről a témákról,\n",
    "- forráshivatkozással megjelölni az eredeti cikkeket.\n",
    "\n",
    "A projekt célja, hogy megmutassuk, hogyan lehet modern **nyelvi modelleket**, **vektortárolókat** és **retrieval-alapú QA rendszereket** kombinálni egy hasznos orvosi kutatási ágens megépítéséhez.\n"
   ]
  },
  {
   "cell_type": "code",
   "execution_count": 1,
   "id": "90a40f91-abe2-4c14-8a0e-37c316ebeff5",
   "metadata": {},
   "outputs": [
    {
     "name": "stdout",
     "output_type": "stream",
     "text": [
      "Requirement already satisfied: matplotlib-venn in /home/anton/jupyter-env/lib/python3.12/site-packages (1.1.2)\n",
      "Requirement already satisfied: matplotlib in /home/anton/jupyter-env/lib/python3.12/site-packages (from matplotlib-venn) (3.10.1)\n",
      "Requirement already satisfied: numpy in /home/anton/jupyter-env/lib/python3.12/site-packages (from matplotlib-venn) (2.2.4)\n",
      "Requirement already satisfied: scipy in /home/anton/jupyter-env/lib/python3.12/site-packages (from matplotlib-venn) (1.15.2)\n",
      "Requirement already satisfied: contourpy>=1.0.1 in /home/anton/jupyter-env/lib/python3.12/site-packages (from matplotlib->matplotlib-venn) (1.3.1)\n",
      "Requirement already satisfied: cycler>=0.10 in /home/anton/jupyter-env/lib/python3.12/site-packages (from matplotlib->matplotlib-venn) (0.12.1)\n",
      "Requirement already satisfied: fonttools>=4.22.0 in /home/anton/jupyter-env/lib/python3.12/site-packages (from matplotlib->matplotlib-venn) (4.56.0)\n",
      "Requirement already satisfied: kiwisolver>=1.3.1 in /home/anton/jupyter-env/lib/python3.12/site-packages (from matplotlib->matplotlib-venn) (1.4.8)\n",
      "Requirement already satisfied: packaging>=20.0 in /home/anton/jupyter-env/lib/python3.12/site-packages (from matplotlib->matplotlib-venn) (24.2)\n",
      "Requirement already satisfied: pillow>=8 in /home/anton/jupyter-env/lib/python3.12/site-packages (from matplotlib->matplotlib-venn) (11.1.0)\n",
      "Requirement already satisfied: pyparsing>=2.3.1 in /home/anton/jupyter-env/lib/python3.12/site-packages (from matplotlib->matplotlib-venn) (3.2.1)\n",
      "Requirement already satisfied: python-dateutil>=2.7 in /home/anton/jupyter-env/lib/python3.12/site-packages (from matplotlib->matplotlib-venn) (2.9.0.post0)\n",
      "Requirement already satisfied: six>=1.5 in /home/anton/jupyter-env/lib/python3.12/site-packages (from python-dateutil>=2.7->matplotlib->matplotlib-venn) (1.17.0)\n"
     ]
    }
   ],
   "source": [
    "!pip install matplotlib-venn"
   ]
  },
  {
   "cell_type": "code",
   "execution_count": 2,
   "id": "245ef032-2124-456e-a01d-19449a3bb63e",
   "metadata": {},
   "outputs": [],
   "source": [
    "# Data handling\n",
    "import os\n",
    "import json\n",
    "import pandas as pd\n",
    "import numpy as np\n",
    "\n",
    "# NLP tools\n",
    "from sentence_transformers import SentenceTransformer\n",
    "from sklearn.metrics.pairwise import cosine_similarity\n",
    "\n",
    "# Vector search\n",
    "import faiss\n",
    "\n",
    "# Visualization\n",
    "import matplotlib.pyplot as plt\n",
    "import seaborn as sns\n",
    "\n",
    "# Misc\n",
    "from tqdm import tqdm\n",
    "tqdm.pandas()\n",
    "\n",
    "# For QA\n",
    "from transformers import pipeline\n",
    "\n",
    "base_path = \"./\"\n",
    "#base_path = \"/content/drive/MyDrive/Projektmunka Smoking and COVID19\"\n",
    "os.chdir(base_path)"
   ]
  },
  {
   "cell_type": "code",
   "execution_count": 3,
   "id": "4cb4aee7-b990-45de-8d8b-b9ed5fb60d6a",
   "metadata": {},
   "outputs": [
    {
     "data": {
      "text/html": [
       "<div>\n",
       "<style scoped>\n",
       "    .dataframe tbody tr th:only-of-type {\n",
       "        vertical-align: middle;\n",
       "    }\n",
       "\n",
       "    .dataframe tbody tr th {\n",
       "        vertical-align: top;\n",
       "    }\n",
       "\n",
       "    .dataframe thead th {\n",
       "        text-align: right;\n",
       "    }\n",
       "</style>\n",
       "<table border=\"1\" class=\"dataframe\">\n",
       "  <thead>\n",
       "    <tr style=\"text-align: right;\">\n",
       "      <th></th>\n",
       "      <th>title</th>\n",
       "      <th>abstract</th>\n",
       "      <th>authors</th>\n",
       "      <th>journal</th>\n",
       "    </tr>\n",
       "  </thead>\n",
       "  <tbody>\n",
       "    <tr>\n",
       "      <th>0</th>\n",
       "      <td>Clinical features of culture-proven Mycoplasma...</td>\n",
       "      <td>OBJECTIVE: This retrospective chart review des...</td>\n",
       "      <td>Madani, Tariq A; Al-Ghamdi, Aisha A</td>\n",
       "      <td>BMC Infect Dis</td>\n",
       "    </tr>\n",
       "    <tr>\n",
       "      <th>1</th>\n",
       "      <td>Nitric oxide: a pro-inflammatory mediator in l...</td>\n",
       "      <td>Inflammatory diseases of the respiratory tract...</td>\n",
       "      <td>Vliet, Albert van der; Eiserich, Jason P; Cros...</td>\n",
       "      <td>Respir Res</td>\n",
       "    </tr>\n",
       "    <tr>\n",
       "      <th>2</th>\n",
       "      <td>Surfactant protein-D and pulmonary host defense</td>\n",
       "      <td>Surfactant protein-D (SP-D) participates in th...</td>\n",
       "      <td>Crouch, Erika C</td>\n",
       "      <td>Respir Res</td>\n",
       "    </tr>\n",
       "    <tr>\n",
       "      <th>3</th>\n",
       "      <td>Role of endothelin-1 in lung disease</td>\n",
       "      <td>Endothelin-1 (ET-1) is a 21 amino acid peptide...</td>\n",
       "      <td>Fagan, Karen A; McMurtry, Ivan F; Rodman, David M</td>\n",
       "      <td>Respir Res</td>\n",
       "    </tr>\n",
       "    <tr>\n",
       "      <th>4</th>\n",
       "      <td>Gene expression in epithelial cells in respons...</td>\n",
       "      <td>Respiratory syncytial virus (RSV) and pneumoni...</td>\n",
       "      <td>Domachowske, Joseph B; Bonville, Cynthia A; Ro...</td>\n",
       "      <td>Respir Res</td>\n",
       "    </tr>\n",
       "  </tbody>\n",
       "</table>\n",
       "</div>"
      ],
      "text/plain": [
       "                                               title  \\\n",
       "0  Clinical features of culture-proven Mycoplasma...   \n",
       "1  Nitric oxide: a pro-inflammatory mediator in l...   \n",
       "2    Surfactant protein-D and pulmonary host defense   \n",
       "3               Role of endothelin-1 in lung disease   \n",
       "4  Gene expression in epithelial cells in respons...   \n",
       "\n",
       "                                            abstract  \\\n",
       "0  OBJECTIVE: This retrospective chart review des...   \n",
       "1  Inflammatory diseases of the respiratory tract...   \n",
       "2  Surfactant protein-D (SP-D) participates in th...   \n",
       "3  Endothelin-1 (ET-1) is a 21 amino acid peptide...   \n",
       "4  Respiratory syncytial virus (RSV) and pneumoni...   \n",
       "\n",
       "                                             authors         journal  \n",
       "0                Madani, Tariq A; Al-Ghamdi, Aisha A  BMC Infect Dis  \n",
       "1  Vliet, Albert van der; Eiserich, Jason P; Cros...      Respir Res  \n",
       "2                                    Crouch, Erika C      Respir Res  \n",
       "3  Fagan, Karen A; McMurtry, Ivan F; Rodman, David M      Respir Res  \n",
       "4  Domachowske, Joseph B; Bonville, Cynthia A; Ro...      Respir Res  "
      ]
     },
     "execution_count": 3,
     "metadata": {},
     "output_type": "execute_result"
    }
   ],
   "source": [
    "# Példa: feltételezzük, hogy a CORD-19 metaadat fájl itt található\n",
    "meta_path = \"metadata.csv\"\n",
    "\n",
    "# Beolvassuk az első néhány ezer sort (memória miatt)\n",
    "df = pd.read_csv(meta_path, low_memory=False)\n",
    "df = df.head(5000)\n",
    "\n",
    "# Nézzük meg az első néhány sort\n",
    "df[[\"title\", \"abstract\", \"authors\", \"journal\"]].head()\n"
   ]
  },
  {
   "cell_type": "code",
   "execution_count": 4,
   "id": "b8d0a9b7-937e-4f2d-8e43-f476a03beb96",
   "metadata": {},
   "outputs": [
    {
     "data": {
      "text/plain": [
       "array(['Clinical features of culture-proven Mycoplasma pneumoniae infections at King Abdulaziz University Hospital, Jeddah, Saudi Arabia. OBJECTIVE: This retrospective chart review describes the epidemiology and clinical features of 40 patients with culture-proven Mycoplasma pneumoniae infections at King Abdulaziz University Hospital, Jeddah, Saudi Arabia. METHODS: Patients with positive M. pneumoniae cultures from respiratory specimens from January 1997 through December 1998 were identified through the Microbiology records. Charts of patients were reviewed. RESULTS: 40 patients were identified, 33 (82.5%) of whom required admission. Most infections (92.5%) were community-acquired. The infection affected all age groups but was most common in infants (32.5%) and pre-school children (22.5%). It occurred year-round but was most common in the fall (35%) and spring (30%). More than three-quarters of patients (77.5%) had comorbidities. Twenty-four isolates (60%) were associated with pneumonia, 14 (35%) with upper respiratory tract infections, and 2 (5%) with bronchiolitis. Cough (82.5%), fever (75%), and malaise (58.8%) were the most common symptoms, and crepitations (60%), and wheezes (40%) were the most common signs. Most patients with pneumonia had crepitations (79.2%) but only 25% had bronchial breathing. Immunocompromised patients were more likely than non-immunocompromised patients to present with pneumonia (8/9 versus 16/31, P = 0.05). Of the 24 patients with pneumonia, 14 (58.3%) had uneventful recovery, 4 (16.7%) recovered following some complications, 3 (12.5%) died because of M pneumoniae infection, and 3 (12.5%) died due to underlying comorbidities. The 3 patients who died of M pneumoniae pneumonia had other comorbidities. CONCLUSION: our results were similar to published data except for the finding that infections were more common in infants and preschool children and that the mortality rate of pneumonia in patients with comorbidities was high.',\n",
       "       'Nitric oxide: a pro-inflammatory mediator in lung disease?. Inflammatory diseases of the respiratory tract are commonly associated with elevated production of nitric oxide (NO•) and increased indices of NO• -dependent oxidative stress. Although NO• is known to have anti-microbial, anti-inflammatory and anti-oxidant properties, various lines of evidence support the contribution of NO• to lung injury in several disease models. On the basis of biochemical evidence, it is often presumed that such NO• -dependent oxidations are due to the formation of the oxidant peroxynitrite, although alternative mechanisms involving the phagocyte-derived heme proteins myeloperoxidase and eosinophil peroxidase might be operative during conditions of inflammation. Because of the overwhelming literature on NO• generation and activities in the respiratory tract, it would be beyond the scope of this commentary to review this area comprehensively. Instead, it focuses on recent evidence and concepts of the presumed contribution of NO• to inflammatory diseases of the lung.',\n",
       "       'Surfactant protein-D and pulmonary host defense. Surfactant protein-D (SP-D) participates in the innate response to inhaled microorganisms and organic antigens, and contributes to immune and inflammatory regulation within the lung. SP-D is synthesized and secreted by alveolar and bronchiolar epithelial cells, but is also expressed by epithelial cells lining various exocrine ducts and the mucosa of the gastrointestinal and genitourinary tracts. SP-D, a collagenous calcium-dependent lectin (or collectin), binds to surface glycoconjugates expressed by a wide variety of microorganisms, and to oligosaccharides associated with the surface of various complex organic antigens. SP-D also specifically interacts with glycoconjugates and other molecules expressed on the surface of macrophages, neutrophils, and lymphocytes. In addition, SP-D binds to specific surfactant-associated lipids and can influence the organization of lipid mixtures containing phosphatidylinositol in vitro. Consistent with these diverse in vitro activities is the observation that SP-D-deficient transgenic mice show abnormal accumulations of surfactant lipids, and respond abnormally to challenge with respiratory viruses and bacterial lipopolysaccharides. The phenotype of macrophages isolated from the lungs of SP-D-deficient mice is altered, and there is circumstantial evidence that abnormal oxidant metabolism and/or increased metalloproteinase expression contributes to the development of emphysema. The expression of SP-D is increased in response to many forms of lung injury, and deficient accumulation of appropriately oligomerized SP-D might contribute to the pathogenesis of a variety of human lung diseases.'],\n",
       "      dtype=object)"
      ]
     },
     "execution_count": 4,
     "metadata": {},
     "output_type": "execute_result"
    }
   ],
   "source": [
    "# Combine title and abstract for better context\n",
    "def combine_text(row):\n",
    "    title = str(row[\"title\"]) if pd.notnull(row[\"title\"]) else \"\"\n",
    "    abstract = str(row[\"abstract\"]) if pd.notnull(row[\"abstract\"]) else \"\"\n",
    "    return title.strip() + \". \" + abstract.strip()\n",
    "\n",
    "df[\"text\"] = df.apply(combine_text, axis=1)\n",
    "\n",
    "# Távolítsuk el azokat a sorokat, ahol nincs szöveg\n",
    "df = df[df[\"text\"].str.len() > 50].reset_index(drop=True)\n",
    "\n",
    "# Ellenőrizzük a változást\n",
    "df[\"text\"].head(3).values\n"
   ]
  },
  {
   "cell_type": "code",
   "execution_count": 5,
   "id": "65df2d84-8376-48e2-a8cc-0bcadc3d3075",
   "metadata": {},
   "outputs": [
    {
     "data": {
      "text/plain": [
       "array(['Clinical features of culture-proven Mycoplasma pneumoniae infections at King Abdulaziz University Hospital, Jeddah, Saudi Arabia. OBJECTIVE: This retrospective chart review describes the epidemiology and clinical features of 40 patients with culture-proven Mycoplasma pneumoniae infections at King Abdulaziz University Hospital, Jeddah, Saudi Arabia. METHODS: Patients with positive M. pneumoniae cultures from respiratory specimens from January 1997 through December 1998 were identified through the Microbiology records. Charts of patients were reviewed. RESULTS: 40 patients were identified, 33 (82.5%) of whom required admission. Most infections (92.5%) were community-acquired. The infection affected all age groups but was most common in infants (32.5%) and pre-school children (22.5%). It occurred year-round but was most common in the fall (35%) and spring (30%). More than three-quarters of patients (77.5%) had comorbidities. Twenty-four isolates (60%) were associated with pneumonia, 14 (35%) with upper respiratory tract infections, and 2 (5%) with bronchiolitis. Cough (82.5%), fever (75%), and malaise (58.8%) were the most common symptoms, and crepitations (60%), and wheezes (40%) were the most common signs. Most patients with pneumonia had crepitations (79.2%) but only 25% had bronchial breathing. Immunocompromised patients were more likely than non-immunocompromised patients to present with pneumonia (8/9 versus 16/31, P = 0.05). Of the 24 patients with pneumonia, 14 (58.3%) had uneventful recovery, 4 (16.7%) recovered following some complications, 3 (12.5%) died because of M pneumoniae infection, and 3 (12.5%) died due to underlying comorbidities. The 3 patients who died of M pneumoniae pneumonia had other comorbidities. CONCLUSION: our results were similar to published data except for the finding that infections were more common in infants and preschool children and that the mortality rate of pneumonia in patients with comorbidities was high.',\n",
       "       'Nitric oxide: a pro-inflammatory mediator in lung disease?. Inflammatory diseases of the respiratory tract are commonly associated with elevated production of nitric oxide (NO•) and increased indices of NO• -dependent oxidative stress. Although NO• is known to have anti-microbial, anti-inflammatory and anti-oxidant properties, various lines of evidence support the contribution of NO• to lung injury in several disease models. On the basis of biochemical evidence, it is often presumed that such NO• -dependent oxidations are due to the formation of the oxidant peroxynitrite, although alternative mechanisms involving the phagocyte-derived heme proteins myeloperoxidase and eosinophil peroxidase might be operative during conditions of inflammation. Because of the overwhelming literature on NO• generation and activities in the respiratory tract, it would be beyond the scope of this commentary to review this area comprehensively. Instead, it focuses on recent evidence and concepts of the presumed contribution of NO• to inflammatory diseases of the lung.',\n",
       "       'Surfactant protein-D and pulmonary host defense. Surfactant protein-D (SP-D) participates in the innate response to inhaled microorganisms and organic antigens, and contributes to immune and inflammatory regulation within the lung. SP-D is synthesized and secreted by alveolar and bronchiolar epithelial cells, but is also expressed by epithelial cells lining various exocrine ducts and the mucosa of the gastrointestinal and genitourinary tracts. SP-D, a collagenous calcium-dependent lectin (or collectin), binds to surface glycoconjugates expressed by a wide variety of microorganisms, and to oligosaccharides associated with the surface of various complex organic antigens. SP-D also specifically interacts with glycoconjugates and other molecules expressed on the surface of macrophages, neutrophils, and lymphocytes. In addition, SP-D binds to specific surfactant-associated lipids and can influence the organization of lipid mixtures containing phosphatidylinositol in vitro. Consistent with these diverse in vitro activities is the observation that SP-D-deficient transgenic mice show abnormal accumulations of surfactant lipids, and respond abnormally to challenge with respiratory viruses and bacterial lipopolysaccharides. The phenotype of macrophages isolated from the lungs of SP-D-deficient mice is altered, and there is circumstantial evidence that abnormal oxidant metabolism and/or increased metalloproteinase expression contributes to the development of emphysema. The expression of SP-D is increased in response to many forms of lung injury, and deficient accumulation of appropriately oligomerized SP-D might contribute to the pathogenesis of a variety of human lung diseases.'],\n",
       "      dtype=object)"
      ]
     },
     "execution_count": 5,
     "metadata": {},
     "output_type": "execute_result"
    }
   ],
   "source": [
    "import re\n",
    "\n",
    "def clean_text(text):\n",
    "    text = re.sub(r\"\\s+\", \" \", text)  # multiple spaces\n",
    "    text = re.sub(r\"\\[[^\\]]*\\]\", \"\", text)  # citations like [1], [2]\n",
    "    text = text.strip()\n",
    "    return text\n",
    "\n",
    "df[\"clean_text\"] = df[\"text\"].apply(clean_text)\n",
    "\n",
    "# Nézzük meg a tisztított szövegeket\n",
    "df[\"clean_text\"].head(3).values\n"
   ]
  },
  {
   "cell_type": "code",
   "execution_count": 6,
   "id": "b3171251-a97e-452e-a3ef-5503ba5c5007",
   "metadata": {},
   "outputs": [
    {
     "data": {
      "text/plain": [
       "has_smoking     34\n",
       "has_cardio     111\n",
       "dtype: int64"
      ]
     },
     "execution_count": 6,
     "metadata": {},
     "output_type": "execute_result"
    }
   ],
   "source": [
    "# Kulcsszavak meghatározása\n",
    "keywords = {\n",
    "    \"dohányzás\": [\"smoking\", \"smoker\", \"smoke\", \"ecigarett\", \"cigarett\",  \"tobacco\", \"cigarette\", \"nicotine\",\n",
    "    \"vaping\", \"vape\", \"e-cigarette\", \"smoker\", \"cigar\", \"weed\", \"marijuana\"],\n",
    "    \"cardio\": [\"cardiovascular\", \"heart disease\", \"hypertension\", \"stroke\"]\n",
    "}\n",
    "\n",
    "# Kulcsszó szűrés\n",
    "def contains_keyword(text, keyword_list):\n",
    "    text = text.lower()\n",
    "    return any(keyword in text for keyword in keyword_list)\n",
    "\n",
    "df[\"has_smoking\"] = df[\"clean_text\"].apply(lambda x: contains_keyword(x, keywords[\"dohányzás\"]))\n",
    "df[\"has_cardio\"] = df[\"clean_text\"].apply(lambda x: contains_keyword(x, keywords[\"cardio\"]))\n",
    "\n",
    "# Dokumentumok száma kategóriánként\n",
    "df[[\"has_smoking\", \"has_cardio\"]].sum()\n"
   ]
  },
  {
   "cell_type": "code",
   "execution_count": 7,
   "id": "ffee2e60-a715-4afc-b2d7-8221422bc3ad",
   "metadata": {},
   "outputs": [
    {
     "data": {
      "image/png": "[encoded data removed]",
      "text/plain": [
       "<Figure size 800x600 with 1 Axes>"
      ]
     },
     "metadata": {},
     "output_type": "display_data"
    }
   ],
   "source": [
    "import matplotlib_venn as venn\n",
    "import matplotlib.pyplot as plt\n",
    "\n",
    "# Create set indices\n",
    "set1 = set(df[df[\"has_smoking\"]].index)\n",
    "set2 = set(df[df[\"has_cardio\"]].index)\n",
    "\n",
    "# Venn-diagram halmaz metszetéről\n",
    "plt.figure(figsize=(8, 6))\n",
    "venn.venn2([set1, set2], set_labels=(\"Dohányzás\", \"Kardiovaszkuláris\"))\n",
    "plt.title(\"Dokumentumok témák szerint\")\n",
    "plt.show()\n"
   ]
  },
  {
   "cell_type": "code",
   "execution_count": 8,
   "id": "9e545d32-74af-4cbe-8f9c-a2fd293663a4",
   "metadata": {},
   "outputs": [
    {
     "data": {
      "application/vnd.jupyter.widget-view+json": {
       "model_id": "0adc4931a404447d95ab09bb0a9cb77d",
       "version_major": 2,
       "version_minor": 0
      },
      "text/plain": [
       "Batches:   0%|          | 0/5 [00:00<?, ?it/s]"
      ]
     },
     "metadata": {},
     "output_type": "display_data"
    }
   ],
   "source": [
    "from sentence_transformers import SentenceTransformer\n",
    "\n",
    "# Használjunk egy könnyű modellt, ami elfér 6GB GPU-n\n",
    "model_name = \"sentence-transformers/all-MiniLM-L6-v2\"\n",
    "model = SentenceTransformer(model_name)\n",
    "\n",
    "# Csak azokat a szövegeket vektorizáljuk, amik legalább egy témát érintenek\n",
    "df_filtered = df[df[[\"has_smoking\", \"has_cardio\"]].any(axis=1)].reset_index(drop=True)\n",
    "\n",
    "# Limitáljuk az adatok számát tesztelésre\n",
    "texts = df_filtered[\"clean_text\"].tolist()\n",
    "\n",
    "# Embed texts\n",
    "embeddings = model.encode(texts, show_progress_bar=True, convert_to_numpy=True)\n"
   ]
  },
  {
   "cell_type": "code",
   "execution_count": 9,
   "id": "c779112b-c561-450e-af8f-6de8cfada0d1",
   "metadata": {},
   "outputs": [],
   "source": [
    "import faiss\n",
    "\n",
    "# Define FAISS index\n",
    "embedding_dim = embeddings.shape[1]\n",
    "index = faiss.IndexFlatL2(embedding_dim)\n",
    "index.add(embeddings)\n",
    "\n",
    "# Mentjük a dataframe-et is az index mellé, hogy a találatokat vissza tudjuk keresni\n",
    "docs = df_filtered.reset_index(drop=True)\n"
   ]
  },
  {
   "cell_type": "code",
   "execution_count": 10,
   "id": "dd6bfc8c-3cb4-4bc2-81ed-df1b1d12489b",
   "metadata": {},
   "outputs": [
    {
     "data": {
      "text/html": [
       "<div>\n",
       "<style scoped>\n",
       "    .dataframe tbody tr th:only-of-type {\n",
       "        vertical-align: middle;\n",
       "    }\n",
       "\n",
       "    .dataframe tbody tr th {\n",
       "        vertical-align: top;\n",
       "    }\n",
       "\n",
       "    .dataframe thead th {\n",
       "        text-align: right;\n",
       "    }\n",
       "</style>\n",
       "<table border=\"1\" class=\"dataframe\">\n",
       "  <thead>\n",
       "    <tr style=\"text-align: right;\">\n",
       "      <th></th>\n",
       "      <th>title</th>\n",
       "      <th>score</th>\n",
       "    </tr>\n",
       "  </thead>\n",
       "  <tbody>\n",
       "    <tr>\n",
       "      <th>1</th>\n",
       "      <td>Relevance of human metapneumovirus in exacerba...</td>\n",
       "      <td>1.155316</td>\n",
       "    </tr>\n",
       "    <tr>\n",
       "      <th>73</th>\n",
       "      <td>Th17 profile in COPD exacerbations</td>\n",
       "      <td>1.218824</td>\n",
       "    </tr>\n",
       "    <tr>\n",
       "      <th>81</th>\n",
       "      <td>Estimates of global research productivity in u...</td>\n",
       "      <td>1.223819</td>\n",
       "    </tr>\n",
       "    <tr>\n",
       "      <th>52</th>\n",
       "      <td>Imbalance of Th17/Tregs in rats with smoke inh...</td>\n",
       "      <td>1.277529</td>\n",
       "    </tr>\n",
       "    <tr>\n",
       "      <th>2</th>\n",
       "      <td>Public awareness of risk factors for cancer am...</td>\n",
       "      <td>1.280809</td>\n",
       "    </tr>\n",
       "  </tbody>\n",
       "</table>\n",
       "</div>"
      ],
      "text/plain": [
       "                                                title     score\n",
       "1   Relevance of human metapneumovirus in exacerba...  1.155316\n",
       "73                 Th17 profile in COPD exacerbations  1.218824\n",
       "81  Estimates of global research productivity in u...  1.223819\n",
       "52  Imbalance of Th17/Tregs in rats with smoke inh...  1.277529\n",
       "2   Public awareness of risk factors for cancer am...  1.280809"
      ]
     },
     "execution_count": 10,
     "metadata": {},
     "output_type": "execute_result"
    }
   ],
   "source": [
    "def search_similar_documents(query, top_k=5):\n",
    "    query_embedding = model.encode([query])\n",
    "    D, I = index.search(query_embedding, top_k)\n",
    "    results = docs.iloc[I[0]].copy()\n",
    "    results[\"score\"] = D[0]\n",
    "    return results\n",
    "\n",
    "# Példakérdés\n",
    "query = \"Does smoking increase the risk of severe COVID-19?\"\n",
    "top_docs = search_similar_documents(query)\n",
    "top_docs[[\"title\", \"score\"]]\n"
   ]
  },
  {
   "cell_type": "code",
   "execution_count": 11,
   "id": "2c3070a5-e544-459d-b6d5-a98e10785cfc",
   "metadata": {},
   "outputs": [
    {
     "data": {
      "application/vnd.jupyter.widget-view+json": {
       "model_id": "ca8c4c2aef2d4328b2fadefd95688d53",
       "version_major": 2,
       "version_minor": 0
      },
      "text/plain": [
       "config.json:   0%|          | 0.00/571 [00:00<?, ?B/s]"
      ]
     },
     "metadata": {},
     "output_type": "display_data"
    },
    {
     "data": {
      "application/vnd.jupyter.widget-view+json": {
       "model_id": "7741a512453847ca82d3ec1454945224",
       "version_major": 2,
       "version_minor": 0
      },
      "text/plain": [
       "model.safetensors:   0%|          | 0.00/496M [00:00<?, ?B/s]"
      ]
     },
     "metadata": {},
     "output_type": "display_data"
    },
    {
     "data": {
      "application/vnd.jupyter.widget-view+json": {
       "model_id": "90748ae08d904e15bfad45932cb28ff1",
       "version_major": 2,
       "version_minor": 0
      },
      "text/plain": [
       "tokenizer_config.json:   0%|          | 0.00/79.0 [00:00<?, ?B/s]"
      ]
     },
     "metadata": {},
     "output_type": "display_data"
    },
    {
     "data": {
      "application/vnd.jupyter.widget-view+json": {
       "model_id": "fdab57a5fdef4053830f9475bcbce104",
       "version_major": 2,
       "version_minor": 0
      },
      "text/plain": [
       "vocab.json:   0%|          | 0.00/899k [00:00<?, ?B/s]"
      ]
     },
     "metadata": {},
     "output_type": "display_data"
    },
    {
     "data": {
      "application/vnd.jupyter.widget-view+json": {
       "model_id": "e1995c64007444159f1bbbd9112d9b4b",
       "version_major": 2,
       "version_minor": 0
      },
      "text/plain": [
       "merges.txt:   0%|          | 0.00/456k [00:00<?, ?B/s]"
      ]
     },
     "metadata": {},
     "output_type": "display_data"
    },
    {
     "data": {
      "application/vnd.jupyter.widget-view+json": {
       "model_id": "f85bff5a9198449d9185cb183b6ddd86",
       "version_major": 2,
       "version_minor": 0
      },
      "text/plain": [
       "special_tokens_map.json:   0%|          | 0.00/772 [00:00<?, ?B/s]"
      ]
     },
     "metadata": {},
     "output_type": "display_data"
    },
    {
     "name": "stderr",
     "output_type": "stream",
     "text": [
      "Device set to use cuda:0\n"
     ]
    },
    {
     "name": "stdout",
     "output_type": "stream",
     "text": [
      "Kérdés: Does smoking increase the risk of severe COVID-19?\n",
      "Válasz: quantitative real-time RT-PCR\n",
      "\n",
      "Forrás cím: Relevance of human metapneumovirus in exacerbations of COPD\n"
     ]
    }
   ],
   "source": [
    "# Kérdés-válasz pipeline\n",
    "qa_pipeline = pipeline(\"question-answering\", model=\"deepset/roberta-base-squad2\")\n",
    "\n",
    "# Az első dokumentumból próbálunk választ adni\n",
    "context = top_docs.iloc[0][\"clean_text\"]\n",
    "answer = qa_pipeline(question=query, context=context)\n",
    "\n",
    "print(\"Kérdés:\", query)\n",
    "print(\"Válasz:\", answer[\"answer\"])\n",
    "print(\"\\nForrás cím:\", top_docs.iloc[0][\"title\"])\n"
   ]
  }
 ],
 "metadata": {
  "kernelspec": {
   "display_name": "Python 3 (ipykernel)",
   "language": "python",
   "name": "python3"
  },
  "language_info": {
   "codemirror_mode": {
    "name": "ipython",
    "version": 3
   },
   "file_extension": ".py",
   "mimetype": "text/x-python",
   "name": "python",
   "nbconvert_exporter": "python",
   "pygments_lexer": "ipython3",
   "version": "3.12.3"
  }
 },
 "nbformat": 4,
 "nbformat_minor": 5
}
