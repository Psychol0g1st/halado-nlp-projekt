{
 "cells": [
  {
   "cell_type": "code",
   "execution_count": 2,
   "id": "394bffda-e7a4-4379-9313-e646b35e680f",
   "metadata": {},
   "outputs": [
    {
     "name": "stdout",
     "output_type": "stream",
     "text": [
      "Requirement already satisfied: pandas in /home/anton/jupyter-env/lib/python3.12/site-packages (2.2.3)\n",
      "Requirement already satisfied: tqdm in /home/anton/jupyter-env/lib/python3.12/site-packages (4.67.1)\n",
      "Requirement already satisfied: numpy>=1.26.0 in /home/anton/jupyter-env/lib/python3.12/site-packages (from pandas) (2.2.4)\n",
      "Requirement already satisfied: python-dateutil>=2.8.2 in /home/anton/jupyter-env/lib/python3.12/site-packages (from pandas) (2.9.0.post0)\n",
      "Requirement already satisfied: pytz>=2020.1 in /home/anton/jupyter-env/lib/python3.12/site-packages (from pandas) (2025.1)\n",
      "Requirement already satisfied: tzdata>=2022.7 in /home/anton/jupyter-env/lib/python3.12/site-packages (from pandas) (2025.1)\n",
      "Requirement already satisfied: six>=1.5 in /home/anton/jupyter-env/lib/python3.12/site-packages (from python-dateutil>=2.8.2->pandas) (1.17.0)\n"
     ]
    }
   ],
   "source": [
    "# Install required libraries\n",
    "!pip install pandas tqdm\n",
    "\n",
    "import pandas as pd\n",
    "import os\n",
    "import json\n",
    "from tqdm import tqdm\n",
    "from collections import defaultdict\n",
    "\n",
    "base_path = \"./\"\n",
    "#base_path = \"/content/drive/MyDrive/Projektmunka Smoking and COVID19\"\n",
    "os.chdir(base_path)\n",
    "\n"
   ]
  },
  {
   "cell_type": "code",
   "execution_count": 3,
   "id": "ad6ada2b-38ee-42d9-bfe2-2412220826d4",
   "metadata": {},
   "outputs": [
    {
     "name": "stdout",
     "output_type": "stream",
     "text": [
      "Found 11354 smoking-related papers\n"
     ]
    }
   ],
   "source": [
    "# Load metadata.csv\n",
    "metadata_path = \"metadata.csv\"\n",
    "metadata = pd.read_csv(metadata_path, dtype=str)\n",
    "\n",
    "# Define smoking-related keywords (expand as needed)\n",
    "smoking_keywords = [\n",
    "    \"smoking\", \"smoker\", \"smoke\", \"ecigarett\", \"cigarett\",  \"tobacco\", \"cigarette\", \"nicotine\",\n",
    "    \"vaping\", \"vape\", \"e-cigarette\", \"smoker\", \"cigar\", \"weed\", \"marijuana\"\n",
    "]\n",
    "\n",
    "# Filter papers where title/abstract contains smoking-related terms\n",
    "filtered_papers = metadata[\n",
    "    metadata[\"title\"].str.lower().str.contains('|'.join(smoking_keywords), na=False) |\n",
    "    metadata[\"abstract\"].str.lower().str.contains('|'.join(smoking_keywords), na=False)\n",
    "].copy()\n",
    "\n",
    "print(f\"Found {len(filtered_papers)} smoking-related papers\")\n"
   ]
  },
  {
   "cell_type": "code",
   "execution_count": 4,
   "id": "30f3e8ac-9fe7-4f59-a22c-87b6f7af0fb0",
   "metadata": {},
   "outputs": [],
   "source": [
    "columns_to_keep = ['cord_uid', 'title', 'abstract', 'publish_time', 'source_x', 'authors', 'pdf_json_files', 'pmc_json_files']\n",
    "\n",
    "filtered_papers = filtered_papers[columns_to_keep]"
   ]
  },
  {
   "cell_type": "code",
   "execution_count": 6,
   "id": "bc036110-28bd-4d2e-bdc0-6d68c085869a",
   "metadata": {},
   "outputs": [],
   "source": [
    "filtered_papers.head()\n",
    "filtered_papers.to_csv(\"smoking_related_records_from_cord19_by_antal_svec.csv\", index=False)"
   ]
  },
  {
   "cell_type": "code",
   "execution_count": null,
   "id": "67135b91-4d30-441f-a768-019d289dd092",
   "metadata": {},
   "outputs": [],
   "source": [
    "filtered_papers.info()"
   ]
  },
  {
   "cell_type": "code",
   "execution_count": 19,
   "id": "22d4872f-2a23-40ae-89fc-7ba3313f60b7",
   "metadata": {},
   "outputs": [
    {
     "name": "stderr",
     "output_type": "stream",
     "text": [
      "Extracting full text sections: 100%|█████████████████████████████████████████████| 11354/11354 [00:17<00:00, 630.82it/s]"
     ]
    },
    {
     "name": "stdout",
     "output_type": "stream",
     "text": [
      "Successfully extracted full text for 3961 papers\n"
     ]
    },
    {
     "name": "stderr",
     "output_type": "stream",
     "text": [
      "\n"
     ]
    }
   ],
   "source": [
    "def extract_sections_from_json(json_path):\n",
    "    \"\"\"Extract sections from JSON files with error handling\"\"\"\n",
    "    sections = defaultdict(list)\n",
    "    try:\n",
    "        with open(json_path, 'r') as f:\n",
    "            data = json.load(f)\n",
    "            for para in data['body_text']:\n",
    "                section = para['section'].lower()\n",
    "                text = para['text']\n",
    "                if 'intro' in section:\n",
    "                    sections['introduction'].append(text)\n",
    "                elif 'method' in section:\n",
    "                    sections['methods'].append(text)\n",
    "                elif 'result' in section:\n",
    "                    sections['results'].append(text)\n",
    "            if 'back_matter' in data:\n",
    "                sections['references'] = [item['text'] for item in data['back_matter']]\n",
    "    except Exception as e:\n",
    "        # Print only if it's not a \"file not found\" error\n",
    "        if \"No such file\" not in str(e):\n",
    "            print(f\"Error parsing {json_path}: {e}\")\n",
    "    return sections\n",
    "\n",
    "def get_full_text(row):\n",
    "    \"\"\"Handle both PDF and PMC JSON files with priority to PDF\"\"\"\n",
    "    # Try PDF JSON first\n",
    "    if pd.notna(row['pdf_json_files']):\n",
    "        for json_path in row['pdf_json_files'].split('; '):\n",
    "            full_path = os.path.join(pdf_json_dir, json_path.strip())\n",
    "            if os.path.exists(full_path):\n",
    "                return extract_sections_from_json(full_path)\n",
    "    \n",
    "    # Fallback to PMC JSON\n",
    "    if pd.notna(row['pmc_json_files']):\n",
    "        for json_path in row['pmc_json_files'].split('; '):\n",
    "            full_path = json_path.strip()\n",
    "            if os.path.exists(full_path):\n",
    "                return extract_sections_from_json(full_path)\n",
    "    \n",
    "    return defaultdict(list)  # Return empty dict if no files found\n",
    "\n",
    "# Apply with progress bar\n",
    "tqdm.pandas(desc=\"Extracting full text sections\")\n",
    "filtered_papers['full_text'] = filtered_papers.progress_apply(get_full_text, axis=1)\n",
    "\n",
    "# Convert defaultdict to regular dict for better serialization\n",
    "filtered_papers['full_text'] = filtered_papers['full_text'].apply(dict)\n",
    "\n",
    "print(f\"Successfully extracted full text for {filtered_papers['full_text'].apply(bool).sum()} papers\")"
   ]
  },
  {
   "cell_type": "code",
   "execution_count": 20,
   "id": "ed1e66e0-1130-4d0a-8b0d-625cc804811e",
   "metadata": {},
   "outputs": [
    {
     "data": {
      "text/html": [
       "<div>\n",
       "<style scoped>\n",
       "    .dataframe tbody tr th:only-of-type {\n",
       "        vertical-align: middle;\n",
       "    }\n",
       "\n",
       "    .dataframe tbody tr th {\n",
       "        vertical-align: top;\n",
       "    }\n",
       "\n",
       "    .dataframe thead th {\n",
       "        text-align: right;\n",
       "    }\n",
       "</style>\n",
       "<table border=\"1\" class=\"dataframe\">\n",
       "  <thead>\n",
       "    <tr style=\"text-align: right;\">\n",
       "      <th></th>\n",
       "      <th>cord_uid</th>\n",
       "      <th>title</th>\n",
       "      <th>abstract</th>\n",
       "      <th>publish_time</th>\n",
       "      <th>source_x</th>\n",
       "      <th>authors</th>\n",
       "      <th>pdf_json_files</th>\n",
       "      <th>pmc_json_files</th>\n",
       "      <th>full_text</th>\n",
       "    </tr>\n",
       "  </thead>\n",
       "  <tbody>\n",
       "    <tr>\n",
       "      <th>8</th>\n",
       "      <td>8qnrcgnk</td>\n",
       "      <td>Heme oxygenase-1 and carbon monoxide in pulmon...</td>\n",
       "      <td>Heme oxygenase-1 (HO-1), an inducible stress p...</td>\n",
       "      <td>2003-08-07</td>\n",
       "      <td>PMC</td>\n",
       "      <td>Slebos, Dirk-Jan; Ryter, Stefan W; Choi, Augus...</td>\n",
       "      <td>document_parses/pdf_json/faaf1022ccfe93b032c56...</td>\n",
       "      <td>document_parses/pmc_json/PMC193681.xml.json</td>\n",
       "      <td>{'introduction': ['The heme oxygenase-1/carbon...</td>\n",
       "    </tr>\n",
       "    <tr>\n",
       "      <th>41</th>\n",
       "      <td>qva0jt86</td>\n",
       "      <td>Relevance of human metapneumovirus in exacerba...</td>\n",
       "      <td>BACKGROUND AND METHODS: Human metapneumovirus ...</td>\n",
       "      <td>2005-12-21</td>\n",
       "      <td>PMC</td>\n",
       "      <td>Rohde, G; Borg, I; Arinir, U; Kronsbein, J; Ra...</td>\n",
       "      <td>document_parses/pdf_json/4ba79e54ecf81b30b5646...</td>\n",
       "      <td>document_parses/pmc_json/PMC1334186.xml.json</td>\n",
       "      <td>{'methods': ['Three different groups were stud...</td>\n",
       "    </tr>\n",
       "    <tr>\n",
       "      <th>43</th>\n",
       "      <td>bnnl700a</td>\n",
       "      <td>Public awareness of risk factors for cancer am...</td>\n",
       "      <td>BACKGROUND: The present study aimed to provide...</td>\n",
       "      <td>2006-01-10</td>\n",
       "      <td>PMC</td>\n",
       "      <td>Inoue, Manami; Iwasaki, Motoki; Otani, Tetsuya...</td>\n",
       "      <td>document_parses/pdf_json/a78fd1b34372e1e54bf2a...</td>\n",
       "      <td>document_parses/pmc_json/PMC1351169.xml.json</td>\n",
       "      <td>{'methods': ['The study was conducted as a par...</td>\n",
       "    </tr>\n",
       "    <tr>\n",
       "      <th>473</th>\n",
       "      <td>ft5wl70x</td>\n",
       "      <td>Involvement of microRNAs in physiological and ...</td>\n",
       "      <td>To date, at least 900 different microRNA (miRN...</td>\n",
       "      <td>2010-11-23</td>\n",
       "      <td>PMC</td>\n",
       "      <td>Tomankova, Tereza; Petrek, Martin; Kriegova, Eva</td>\n",
       "      <td>document_parses/pdf_json/b97de55ba907c3b1f3048...</td>\n",
       "      <td>document_parses/pmc_json/PMC3001429.xml.json</td>\n",
       "      <td>{'references': []}</td>\n",
       "    </tr>\n",
       "    <tr>\n",
       "      <th>507</th>\n",
       "      <td>1h6jz1h5</td>\n",
       "      <td>Plant Plastid Engineering</td>\n",
       "      <td>Genetic material in plants is distributed into...</td>\n",
       "      <td>2010-11-03</td>\n",
       "      <td>PMC</td>\n",
       "      <td>Wani, Shabir H.; Haider, Nadia; Kumar, Hitesh;...</td>\n",
       "      <td>document_parses/pdf_json/79979652a864cef3a4134...</td>\n",
       "      <td>document_parses/pmc_json/PMC3048312.xml.json</td>\n",
       "      <td>{'introduction': ['Genetic material in plants ...</td>\n",
       "    </tr>\n",
       "  </tbody>\n",
       "</table>\n",
       "</div>"
      ],
      "text/plain": [
       "     cord_uid                                              title  \\\n",
       "8    8qnrcgnk  Heme oxygenase-1 and carbon monoxide in pulmon...   \n",
       "41   qva0jt86  Relevance of human metapneumovirus in exacerba...   \n",
       "43   bnnl700a  Public awareness of risk factors for cancer am...   \n",
       "473  ft5wl70x  Involvement of microRNAs in physiological and ...   \n",
       "507  1h6jz1h5                          Plant Plastid Engineering   \n",
       "\n",
       "                                              abstract publish_time source_x  \\\n",
       "8    Heme oxygenase-1 (HO-1), an inducible stress p...   2003-08-07      PMC   \n",
       "41   BACKGROUND AND METHODS: Human metapneumovirus ...   2005-12-21      PMC   \n",
       "43   BACKGROUND: The present study aimed to provide...   2006-01-10      PMC   \n",
       "473  To date, at least 900 different microRNA (miRN...   2010-11-23      PMC   \n",
       "507  Genetic material in plants is distributed into...   2010-11-03      PMC   \n",
       "\n",
       "                                               authors  \\\n",
       "8    Slebos, Dirk-Jan; Ryter, Stefan W; Choi, Augus...   \n",
       "41   Rohde, G; Borg, I; Arinir, U; Kronsbein, J; Ra...   \n",
       "43   Inoue, Manami; Iwasaki, Motoki; Otani, Tetsuya...   \n",
       "473   Tomankova, Tereza; Petrek, Martin; Kriegova, Eva   \n",
       "507  Wani, Shabir H.; Haider, Nadia; Kumar, Hitesh;...   \n",
       "\n",
       "                                        pdf_json_files  \\\n",
       "8    document_parses/pdf_json/faaf1022ccfe93b032c56...   \n",
       "41   document_parses/pdf_json/4ba79e54ecf81b30b5646...   \n",
       "43   document_parses/pdf_json/a78fd1b34372e1e54bf2a...   \n",
       "473  document_parses/pdf_json/b97de55ba907c3b1f3048...   \n",
       "507  document_parses/pdf_json/79979652a864cef3a4134...   \n",
       "\n",
       "                                   pmc_json_files  \\\n",
       "8     document_parses/pmc_json/PMC193681.xml.json   \n",
       "41   document_parses/pmc_json/PMC1334186.xml.json   \n",
       "43   document_parses/pmc_json/PMC1351169.xml.json   \n",
       "473  document_parses/pmc_json/PMC3001429.xml.json   \n",
       "507  document_parses/pmc_json/PMC3048312.xml.json   \n",
       "\n",
       "                                             full_text  \n",
       "8    {'introduction': ['The heme oxygenase-1/carbon...  \n",
       "41   {'methods': ['Three different groups were stud...  \n",
       "43   {'methods': ['The study was conducted as a par...  \n",
       "473                                 {'references': []}  \n",
       "507  {'introduction': ['Genetic material in plants ...  "
      ]
     },
     "execution_count": 20,
     "metadata": {},
     "output_type": "execute_result"
    }
   ],
   "source": [
    "filtered_papers.head()"
   ]
  },
  {
   "cell_type": "code",
   "execution_count": 21,
   "id": "022c406e-9ff0-44ef-ac25-232cdbcb7aa4",
   "metadata": {},
   "outputs": [],
   "source": [
    "# Save curated data to CSV/Parquet for later use\n",
    "filtered_papers.to_csv(\"smoking_covid_curated.csv\", index=False)"
   ]
  },
  {
   "cell_type": "code",
   "execution_count": null,
   "id": "21431ac2-2a0f-4d16-ba33-b43e64538340",
   "metadata": {},
   "outputs": [],
   "source": []
  }
 ],
 "metadata": {
  "kernelspec": {
   "display_name": "Python 3 (ipykernel)",
   "language": "python",
   "name": "python3"
  },
  "language_info": {
   "codemirror_mode": {
    "name": "ipython",
    "version": 3
   },
   "file_extension": ".py",
   "mimetype": "text/x-python",
   "name": "python",
   "nbconvert_exporter": "python",
   "pygments_lexer": "ipython3",
   "version": "3.12.3"
  }
 },
 "nbformat": 4,
 "nbformat_minor": 5
}
