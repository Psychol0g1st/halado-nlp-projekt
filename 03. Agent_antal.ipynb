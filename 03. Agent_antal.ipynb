{
 "cells": [
  {
   "cell_type": "code",
   "execution_count": 1,
   "id": "a9fd4510-c3c4-4f2d-b749-7d3db45c8343",
   "metadata": {},
   "outputs": [
    {
     "name": "stdout",
     "output_type": "stream",
     "text": [
      "Requirement already satisfied: llama-index in /home/anton/jupyter-env/lib/python3.12/site-packages (0.12.35)\n",
      "Requirement already satisfied: llama-index-embeddings-huggingface in /home/anton/jupyter-env/lib/python3.12/site-packages (0.5.4)\n",
      "Requirement already satisfied: llama-index-llms-huggingface in /home/anton/jupyter-env/lib/python3.12/site-packages (0.5.0)\n",
      "Requirement already satisfied: bitsandbytes in /home/anton/jupyter-env/lib/python3.12/site-packages (0.45.5)\n",
      "Requirement already satisfied: torch in /home/anton/jupyter-env/lib/python3.12/site-packages (2.7.0)\n",
      "Requirement already satisfied: llama-index-agent-openai<0.5,>=0.4.0 in /home/anton/jupyter-env/lib/python3.12/site-packages (from llama-index) (0.4.7)\n",
      "Requirement already satisfied: llama-index-cli<0.5,>=0.4.1 in /home/anton/jupyter-env/lib/python3.12/site-packages (from llama-index) (0.4.1)\n",
      "Requirement already satisfied: llama-index-core<0.13,>=0.12.35 in /home/anton/jupyter-env/lib/python3.12/site-packages (from llama-index) (0.12.35)\n",
      "Requirement already satisfied: llama-index-embeddings-openai<0.4,>=0.3.0 in /home/anton/jupyter-env/lib/python3.12/site-packages (from llama-index) (0.3.1)\n",
      "Requirement already satisfied: llama-index-indices-managed-llama-cloud>=0.4.0 in /home/anton/jupyter-env/lib/python3.12/site-packages (from llama-index) (0.6.11)\n",
      "Requirement already satisfied: llama-index-llms-openai<0.4,>=0.3.0 in /home/anton/jupyter-env/lib/python3.12/site-packages (from llama-index) (0.3.38)\n",
      "Requirement already satisfied: llama-index-multi-modal-llms-openai<0.5,>=0.4.0 in /home/anton/jupyter-env/lib/python3.12/site-packages (from llama-index) (0.4.3)\n",
      "Requirement already satisfied: llama-index-program-openai<0.4,>=0.3.0 in /home/anton/jupyter-env/lib/python3.12/site-packages (from llama-index) (0.3.1)\n",
      "Requirement already satisfied: llama-index-question-gen-openai<0.4,>=0.3.0 in /home/anton/jupyter-env/lib/python3.12/site-packages (from llama-index) (0.3.0)\n",
      "Requirement already satisfied: llama-index-readers-file<0.5,>=0.4.0 in /home/anton/jupyter-env/lib/python3.12/site-packages (from llama-index) (0.4.7)\n",
      "Requirement already satisfied: llama-index-readers-llama-parse>=0.4.0 in /home/anton/jupyter-env/lib/python3.12/site-packages (from llama-index) (0.4.0)\n",
      "Requirement already satisfied: nltk>3.8.1 in /home/anton/jupyter-env/lib/python3.12/site-packages (from llama-index) (3.9.1)\n",
      "Requirement already satisfied: huggingface-hub>=0.19.0 in /home/anton/jupyter-env/lib/python3.12/site-packages (from huggingface-hub[inference]>=0.19.0->llama-index-embeddings-huggingface) (0.30.2)\n",
      "Requirement already satisfied: sentence-transformers>=2.6.1 in /home/anton/jupyter-env/lib/python3.12/site-packages (from llama-index-embeddings-huggingface) (4.1.0)\n",
      "Requirement already satisfied: transformers<5.0.0,>=4.37.0 in /home/anton/jupyter-env/lib/python3.12/site-packages (from transformers[torch]<5.0.0,>=4.37.0->llama-index-llms-huggingface) (4.51.3)\n",
      "Requirement already satisfied: numpy>=1.17 in /home/anton/jupyter-env/lib/python3.12/site-packages (from bitsandbytes) (2.2.4)\n",
      "Requirement already satisfied: filelock in /home/anton/jupyter-env/lib/python3.12/site-packages (from torch) (3.18.0)\n",
      "Requirement already satisfied: typing-extensions>=4.10.0 in /home/anton/jupyter-env/lib/python3.12/site-packages (from torch) (4.12.2)\n",
      "Requirement already satisfied: setuptools in /home/anton/jupyter-env/lib/python3.12/site-packages (from torch) (77.0.1)\n",
      "Requirement already satisfied: sympy>=1.13.3 in /home/anton/jupyter-env/lib/python3.12/site-packages (from torch) (1.13.3)\n",
      "Requirement already satisfied: networkx in /home/anton/jupyter-env/lib/python3.12/site-packages (from torch) (3.4.2)\n",
      "Requirement already satisfied: jinja2 in /home/anton/jupyter-env/lib/python3.12/site-packages (from torch) (3.1.6)\n",
      "Requirement already satisfied: fsspec in /home/anton/jupyter-env/lib/python3.12/site-packages (from torch) (2025.3.2)\n",
      "Requirement already satisfied: nvidia-cuda-nvrtc-cu12==12.6.77 in /home/anton/jupyter-env/lib/python3.12/site-packages (from torch) (12.6.77)\n",
      "Requirement already satisfied: nvidia-cuda-runtime-cu12==12.6.77 in /home/anton/jupyter-env/lib/python3.12/site-packages (from torch) (12.6.77)\n",
      "Requirement already satisfied: nvidia-cuda-cupti-cu12==12.6.80 in /home/anton/jupyter-env/lib/python3.12/site-packages (from torch) (12.6.80)\n",
      "Requirement already satisfied: nvidia-cudnn-cu12==9.5.1.17 in /home/anton/jupyter-env/lib/python3.12/site-packages (from torch) (9.5.1.17)\n",
      "Requirement already satisfied: nvidia-cublas-cu12==12.6.4.1 in /home/anton/jupyter-env/lib/python3.12/site-packages (from torch) (12.6.4.1)\n",
      "Requirement already satisfied: nvidia-cufft-cu12==11.3.0.4 in /home/anton/jupyter-env/lib/python3.12/site-packages (from torch) (11.3.0.4)\n",
      "Requirement already satisfied: nvidia-curand-cu12==10.3.7.77 in /home/anton/jupyter-env/lib/python3.12/site-packages (from torch) (10.3.7.77)\n",
      "Requirement already satisfied: nvidia-cusolver-cu12==11.7.1.2 in /home/anton/jupyter-env/lib/python3.12/site-packages (from torch) (11.7.1.2)\n",
      "Requirement already satisfied: nvidia-cusparse-cu12==12.5.4.2 in /home/anton/jupyter-env/lib/python3.12/site-packages (from torch) (12.5.4.2)\n",
      "Requirement already satisfied: nvidia-cusparselt-cu12==0.6.3 in /home/anton/jupyter-env/lib/python3.12/site-packages (from torch) (0.6.3)\n",
      "Requirement already satisfied: nvidia-nccl-cu12==2.26.2 in /home/anton/jupyter-env/lib/python3.12/site-packages (from torch) (2.26.2)\n",
      "Requirement already satisfied: nvidia-nvtx-cu12==12.6.77 in /home/anton/jupyter-env/lib/python3.12/site-packages (from torch) (12.6.77)\n",
      "Requirement already satisfied: nvidia-nvjitlink-cu12==12.6.85 in /home/anton/jupyter-env/lib/python3.12/site-packages (from torch) (12.6.85)\n",
      "Requirement already satisfied: nvidia-cufile-cu12==1.11.1.6 in /home/anton/jupyter-env/lib/python3.12/site-packages (from torch) (1.11.1.6)\n",
      "Requirement already satisfied: triton==3.3.0 in /home/anton/jupyter-env/lib/python3.12/site-packages (from torch) (3.3.0)\n",
      "Requirement already satisfied: packaging>=20.9 in /home/anton/jupyter-env/lib/python3.12/site-packages (from huggingface-hub>=0.19.0->huggingface-hub[inference]>=0.19.0->llama-index-embeddings-huggingface) (24.2)\n",
      "Requirement already satisfied: pyyaml>=5.1 in /home/anton/jupyter-env/lib/python3.12/site-packages (from huggingface-hub>=0.19.0->huggingface-hub[inference]>=0.19.0->llama-index-embeddings-huggingface) (6.0.2)\n",
      "Requirement already satisfied: requests in /home/anton/jupyter-env/lib/python3.12/site-packages (from huggingface-hub>=0.19.0->huggingface-hub[inference]>=0.19.0->llama-index-embeddings-huggingface) (2.32.3)\n",
      "Requirement already satisfied: tqdm>=4.42.1 in /home/anton/jupyter-env/lib/python3.12/site-packages (from huggingface-hub>=0.19.0->huggingface-hub[inference]>=0.19.0->llama-index-embeddings-huggingface) (4.67.1)\n",
      "Requirement already satisfied: aiohttp in /home/anton/jupyter-env/lib/python3.12/site-packages (from huggingface-hub[inference]>=0.19.0->llama-index-embeddings-huggingface) (3.11.18)\n",
      "Requirement already satisfied: openai>=1.14.0 in /home/anton/jupyter-env/lib/python3.12/site-packages (from llama-index-agent-openai<0.5,>=0.4.0->llama-index) (1.78.0)\n",
      "Requirement already satisfied: aiosqlite in /home/anton/jupyter-env/lib/python3.12/site-packages (from llama-index-core<0.13,>=0.12.35->llama-index) (0.21.0)\n",
      "Requirement already satisfied: banks<3,>=2.0.0 in /home/anton/jupyter-env/lib/python3.12/site-packages (from llama-index-core<0.13,>=0.12.35->llama-index) (2.1.2)\n",
      "Requirement already satisfied: dataclasses-json in /home/anton/jupyter-env/lib/python3.12/site-packages (from llama-index-core<0.13,>=0.12.35->llama-index) (0.6.7)\n",
      "Requirement already satisfied: deprecated>=1.2.9.3 in /home/anton/jupyter-env/lib/python3.12/site-packages (from llama-index-core<0.13,>=0.12.35->llama-index) (1.2.18)\n",
      "Requirement already satisfied: dirtyjson<2,>=1.0.8 in /home/anton/jupyter-env/lib/python3.12/site-packages (from llama-index-core<0.13,>=0.12.35->llama-index) (1.0.8)\n",
      "Requirement already satisfied: filetype<2,>=1.2.0 in /home/anton/jupyter-env/lib/python3.12/site-packages (from llama-index-core<0.13,>=0.12.35->llama-index) (1.2.0)\n",
      "Requirement already satisfied: httpx in /home/anton/jupyter-env/lib/python3.12/site-packages (from llama-index-core<0.13,>=0.12.35->llama-index) (0.28.1)\n",
      "Requirement already satisfied: nest-asyncio<2,>=1.5.8 in /home/anton/jupyter-env/lib/python3.12/site-packages (from llama-index-core<0.13,>=0.12.35->llama-index) (1.6.0)\n",
      "Requirement already satisfied: pillow>=9.0.0 in /home/anton/jupyter-env/lib/python3.12/site-packages (from llama-index-core<0.13,>=0.12.35->llama-index) (11.1.0)\n",
      "Requirement already satisfied: pydantic>=2.8.0 in /home/anton/jupyter-env/lib/python3.12/site-packages (from llama-index-core<0.13,>=0.12.35->llama-index) (2.11.4)\n",
      "Requirement already satisfied: sqlalchemy>=1.4.49 in /home/anton/jupyter-env/lib/python3.12/site-packages (from sqlalchemy[asyncio]>=1.4.49->llama-index-core<0.13,>=0.12.35->llama-index) (2.0.40)\n",
      "Requirement already satisfied: tenacity!=8.4.0,<10.0.0,>=8.2.0 in /home/anton/jupyter-env/lib/python3.12/site-packages (from llama-index-core<0.13,>=0.12.35->llama-index) (9.1.2)\n",
      "Requirement already satisfied: tiktoken>=0.7.0 in /home/anton/jupyter-env/lib/python3.12/site-packages (from llama-index-core<0.13,>=0.12.35->llama-index) (0.9.0)\n",
      "Requirement already satisfied: typing-inspect>=0.8.0 in /home/anton/jupyter-env/lib/python3.12/site-packages (from llama-index-core<0.13,>=0.12.35->llama-index) (0.9.0)\n",
      "Requirement already satisfied: wrapt in /home/anton/jupyter-env/lib/python3.12/site-packages (from llama-index-core<0.13,>=0.12.35->llama-index) (1.17.2)\n",
      "Requirement already satisfied: llama-cloud<0.2.0,>=0.1.13 in /home/anton/jupyter-env/lib/python3.12/site-packages (from llama-index-indices-managed-llama-cloud>=0.4.0->llama-index) (0.1.19)\n",
      "Requirement already satisfied: beautifulsoup4<5.0.0,>=4.12.3 in /home/anton/jupyter-env/lib/python3.12/site-packages (from llama-index-readers-file<0.5,>=0.4.0->llama-index) (4.13.3)\n",
      "Requirement already satisfied: pandas in /home/anton/jupyter-env/lib/python3.12/site-packages (from llama-index-readers-file<0.5,>=0.4.0->llama-index) (2.2.3)\n",
      "Requirement already satisfied: pypdf<6.0.0,>=5.1.0 in /home/anton/jupyter-env/lib/python3.12/site-packages (from llama-index-readers-file<0.5,>=0.4.0->llama-index) (5.4.0)\n",
      "Requirement already satisfied: striprtf<0.0.27,>=0.0.26 in /home/anton/jupyter-env/lib/python3.12/site-packages (from llama-index-readers-file<0.5,>=0.4.0->llama-index) (0.0.26)\n",
      "Requirement already satisfied: llama-parse>=0.5.0 in /home/anton/jupyter-env/lib/python3.12/site-packages (from llama-index-readers-llama-parse>=0.4.0->llama-index) (0.6.22)\n",
      "Requirement already satisfied: click in /home/anton/jupyter-env/lib/python3.12/site-packages (from nltk>3.8.1->llama-index) (8.1.8)\n",
      "Requirement already satisfied: joblib in /home/anton/jupyter-env/lib/python3.12/site-packages (from nltk>3.8.1->llama-index) (1.4.2)\n",
      "Requirement already satisfied: regex>=2021.8.3 in /home/anton/jupyter-env/lib/python3.12/site-packages (from nltk>3.8.1->llama-index) (2024.11.6)\n",
      "Requirement already satisfied: scikit-learn in /home/anton/jupyter-env/lib/python3.12/site-packages (from sentence-transformers>=2.6.1->llama-index-embeddings-huggingface) (1.6.1)\n",
      "Requirement already satisfied: scipy in /home/anton/jupyter-env/lib/python3.12/site-packages (from sentence-transformers>=2.6.1->llama-index-embeddings-huggingface) (1.15.2)\n",
      "Requirement already satisfied: mpmath<1.4,>=1.1.0 in /home/anton/jupyter-env/lib/python3.12/site-packages (from sympy>=1.13.3->torch) (1.3.0)\n",
      "Requirement already satisfied: tokenizers<0.22,>=0.21 in /home/anton/jupyter-env/lib/python3.12/site-packages (from transformers<5.0.0,>=4.37.0->transformers[torch]<5.0.0,>=4.37.0->llama-index-llms-huggingface) (0.21.1)\n",
      "Requirement already satisfied: safetensors>=0.4.3 in /home/anton/jupyter-env/lib/python3.12/site-packages (from transformers<5.0.0,>=4.37.0->transformers[torch]<5.0.0,>=4.37.0->llama-index-llms-huggingface) (0.5.3)\n",
      "Requirement already satisfied: accelerate>=0.26.0 in /home/anton/jupyter-env/lib/python3.12/site-packages (from transformers[torch]<5.0.0,>=4.37.0->llama-index-llms-huggingface) (1.6.0)\n",
      "Requirement already satisfied: MarkupSafe>=2.0 in /home/anton/jupyter-env/lib/python3.12/site-packages (from jinja2->torch) (3.0.2)\n",
      "Requirement already satisfied: psutil in /home/anton/jupyter-env/lib/python3.12/site-packages (from accelerate>=0.26.0->transformers[torch]<5.0.0,>=4.37.0->llama-index-llms-huggingface) (7.0.0)\n",
      "Requirement already satisfied: aiohappyeyeballs>=2.3.0 in /home/anton/jupyter-env/lib/python3.12/site-packages (from aiohttp->huggingface-hub[inference]>=0.19.0->llama-index-embeddings-huggingface) (2.6.1)\n",
      "Requirement already satisfied: aiosignal>=1.1.2 in /home/anton/jupyter-env/lib/python3.12/site-packages (from aiohttp->huggingface-hub[inference]>=0.19.0->llama-index-embeddings-huggingface) (1.3.2)\n",
      "Requirement already satisfied: attrs>=17.3.0 in /home/anton/jupyter-env/lib/python3.12/site-packages (from aiohttp->huggingface-hub[inference]>=0.19.0->llama-index-embeddings-huggingface) (25.3.0)\n",
      "Requirement already satisfied: frozenlist>=1.1.1 in /home/anton/jupyter-env/lib/python3.12/site-packages (from aiohttp->huggingface-hub[inference]>=0.19.0->llama-index-embeddings-huggingface) (1.6.0)\n",
      "Requirement already satisfied: multidict<7.0,>=4.5 in /home/anton/jupyter-env/lib/python3.12/site-packages (from aiohttp->huggingface-hub[inference]>=0.19.0->llama-index-embeddings-huggingface) (6.4.3)\n",
      "Requirement already satisfied: propcache>=0.2.0 in /home/anton/jupyter-env/lib/python3.12/site-packages (from aiohttp->huggingface-hub[inference]>=0.19.0->llama-index-embeddings-huggingface) (0.3.1)\n",
      "Requirement already satisfied: yarl<2.0,>=1.17.0 in /home/anton/jupyter-env/lib/python3.12/site-packages (from aiohttp->huggingface-hub[inference]>=0.19.0->llama-index-embeddings-huggingface) (1.20.0)\n",
      "Requirement already satisfied: griffe in /home/anton/jupyter-env/lib/python3.12/site-packages (from banks<3,>=2.0.0->llama-index-core<0.13,>=0.12.35->llama-index) (1.7.3)\n",
      "Requirement already satisfied: platformdirs in /home/anton/jupyter-env/lib/python3.12/site-packages (from banks<3,>=2.0.0->llama-index-core<0.13,>=0.12.35->llama-index) (4.3.7)\n",
      "Requirement already satisfied: soupsieve>1.2 in /home/anton/jupyter-env/lib/python3.12/site-packages (from beautifulsoup4<5.0.0,>=4.12.3->llama-index-readers-file<0.5,>=0.4.0->llama-index) (2.6)\n",
      "Requirement already satisfied: certifi>=2024.7.4 in /home/anton/jupyter-env/lib/python3.12/site-packages (from llama-cloud<0.2.0,>=0.1.13->llama-index-indices-managed-llama-cloud>=0.4.0->llama-index) (2025.1.31)\n",
      "Requirement already satisfied: anyio in /home/anton/jupyter-env/lib/python3.12/site-packages (from httpx->llama-index-core<0.13,>=0.12.35->llama-index) (4.9.0)\n",
      "Requirement already satisfied: httpcore==1.* in /home/anton/jupyter-env/lib/python3.12/site-packages (from httpx->llama-index-core<0.13,>=0.12.35->llama-index) (1.0.7)\n",
      "Requirement already satisfied: idna in /home/anton/jupyter-env/lib/python3.12/site-packages (from httpx->llama-index-core<0.13,>=0.12.35->llama-index) (3.10)\n",
      "Requirement already satisfied: h11<0.15,>=0.13 in /home/anton/jupyter-env/lib/python3.12/site-packages (from httpcore==1.*->httpx->llama-index-core<0.13,>=0.12.35->llama-index) (0.14.0)\n",
      "Requirement already satisfied: llama-cloud-services>=0.6.22 in /home/anton/jupyter-env/lib/python3.12/site-packages (from llama-parse>=0.5.0->llama-index-readers-llama-parse>=0.4.0->llama-index) (0.6.22)\n",
      "Requirement already satisfied: distro<2,>=1.7.0 in /home/anton/jupyter-env/lib/python3.12/site-packages (from openai>=1.14.0->llama-index-agent-openai<0.5,>=0.4.0->llama-index) (1.9.0)\n",
      "Requirement already satisfied: jiter<1,>=0.4.0 in /home/anton/jupyter-env/lib/python3.12/site-packages (from openai>=1.14.0->llama-index-agent-openai<0.5,>=0.4.0->llama-index) (0.9.0)\n",
      "Requirement already satisfied: sniffio in /home/anton/jupyter-env/lib/python3.12/site-packages (from openai>=1.14.0->llama-index-agent-openai<0.5,>=0.4.0->llama-index) (1.3.1)\n",
      "Requirement already satisfied: annotated-types>=0.6.0 in /home/anton/jupyter-env/lib/python3.12/site-packages (from pydantic>=2.8.0->llama-index-core<0.13,>=0.12.35->llama-index) (0.7.0)\n",
      "Requirement already satisfied: pydantic-core==2.33.2 in /home/anton/jupyter-env/lib/python3.12/site-packages (from pydantic>=2.8.0->llama-index-core<0.13,>=0.12.35->llama-index) (2.33.2)\n",
      "Requirement already satisfied: typing-inspection>=0.4.0 in /home/anton/jupyter-env/lib/python3.12/site-packages (from pydantic>=2.8.0->llama-index-core<0.13,>=0.12.35->llama-index) (0.4.0)\n",
      "Requirement already satisfied: charset-normalizer<4,>=2 in /home/anton/jupyter-env/lib/python3.12/site-packages (from requests->huggingface-hub>=0.19.0->huggingface-hub[inference]>=0.19.0->llama-index-embeddings-huggingface) (3.4.1)\n",
      "Requirement already satisfied: urllib3<3,>=1.21.1 in /home/anton/jupyter-env/lib/python3.12/site-packages (from requests->huggingface-hub>=0.19.0->huggingface-hub[inference]>=0.19.0->llama-index-embeddings-huggingface) (2.3.0)\n",
      "Requirement already satisfied: greenlet>=1 in /home/anton/jupyter-env/lib/python3.12/site-packages (from sqlalchemy>=1.4.49->sqlalchemy[asyncio]>=1.4.49->llama-index-core<0.13,>=0.12.35->llama-index) (3.2.2)\n",
      "Requirement already satisfied: mypy-extensions>=0.3.0 in /home/anton/jupyter-env/lib/python3.12/site-packages (from typing-inspect>=0.8.0->llama-index-core<0.13,>=0.12.35->llama-index) (1.1.0)\n",
      "Requirement already satisfied: marshmallow<4.0.0,>=3.18.0 in /home/anton/jupyter-env/lib/python3.12/site-packages (from dataclasses-json->llama-index-core<0.13,>=0.12.35->llama-index) (3.26.1)\n",
      "Requirement already satisfied: python-dateutil>=2.8.2 in /home/anton/jupyter-env/lib/python3.12/site-packages (from pandas->llama-index-readers-file<0.5,>=0.4.0->llama-index) (2.9.0.post0)\n",
      "Requirement already satisfied: pytz>=2020.1 in /home/anton/jupyter-env/lib/python3.12/site-packages (from pandas->llama-index-readers-file<0.5,>=0.4.0->llama-index) (2025.1)\n",
      "Requirement already satisfied: tzdata>=2022.7 in /home/anton/jupyter-env/lib/python3.12/site-packages (from pandas->llama-index-readers-file<0.5,>=0.4.0->llama-index) (2025.1)\n",
      "Requirement already satisfied: threadpoolctl>=3.1.0 in /home/anton/jupyter-env/lib/python3.12/site-packages (from scikit-learn->sentence-transformers>=2.6.1->llama-index-embeddings-huggingface) (3.6.0)\n",
      "Requirement already satisfied: python-dotenv<2.0.0,>=1.0.1 in /home/anton/jupyter-env/lib/python3.12/site-packages (from llama-cloud-services>=0.6.22->llama-parse>=0.5.0->llama-index-readers-llama-parse>=0.4.0->llama-index) (1.1.0)\n",
      "Requirement already satisfied: six>=1.5 in /home/anton/jupyter-env/lib/python3.12/site-packages (from python-dateutil>=2.8.2->pandas->llama-index-readers-file<0.5,>=0.4.0->llama-index) (1.17.0)\n",
      "Requirement already satisfied: colorama>=0.4 in /home/anton/jupyter-env/lib/python3.12/site-packages (from griffe->banks<3,>=2.0.0->llama-index-core<0.13,>=0.12.35->llama-index) (0.4.6)\n"
     ]
    }
   ],
   "source": [
    "!pip install llama-index llama-index-embeddings-huggingface llama-index-llms-huggingface bitsandbytes torch"
   ]
  },
  {
   "cell_type": "code",
   "execution_count": 41,
   "id": "d2c92b67-b4b6-4927-994f-98f2630e8034",
   "metadata": {},
   "outputs": [
    {
     "name": "stdout",
     "output_type": "stream",
     "text": [
      "True\n"
     ]
    }
   ],
   "source": [
    "import os\n",
    "import pandas as pd\n",
    "import json\n",
    "\n",
    "from tqdm import tqdm\n",
    "\n",
    "import re\n",
    "import unicodedata\n",
    "\n",
    "from nltk.corpus import stopwords\n",
    "import nltk\n",
    "\n",
    "from llama_index.core import Settings\n",
    "from llama_index.core import Document\n",
    "from llama_index.core import StorageContext\n",
    "from llama_index.core import VectorStoreIndex\n",
    "from llama_index.core import load_index_from_storage\n",
    "from llama_index.embeddings.huggingface import HuggingFaceEmbedding\n",
    "from llama_index.llms.huggingface import HuggingFaceLLM\n",
    "from llama_index.core.memory import ChatMemoryBuffer\n",
    "\n",
    "from matplotlib import pyplot as plt\n",
    "import torch\n",
    "print(torch.cuda.is_available())  # Should print True"
   ]
  },
  {
   "cell_type": "code",
   "execution_count": 6,
   "id": "2ff0a813-58bf-4512-8020-fe717e34de75",
   "metadata": {},
   "outputs": [
    {
     "name": "stdout",
     "output_type": "stream",
     "text": [
      "Device cuda\n"
     ]
    },
    {
     "name": "stderr",
     "output_type": "stream",
     "text": [
      "[nltk_data] Downloading package punkt to /home/anton/nltk_data...\n",
      "[nltk_data]   Package punkt is already up-to-date!\n",
      "[nltk_data] Downloading package stopwords to /home/anton/nltk_data...\n",
      "[nltk_data]   Package stopwords is already up-to-date!\n"
     ]
    }
   ],
   "source": [
    "device = 'cuda' if torch.cuda.is_available() else 'cpu'\n",
    "print(\"Device \" + device)\n",
    "base_path = \"./\"\n",
    "pdf_json_dir = 'document_parses/pdf_json'\n",
    "pmc_json_dir = 'document_parses/pmc_json'\n",
    "#base_path = \"/content/drive/MyDrive/Projektmunka Smoking and COVID19\"\n",
    "os.chdir(base_path)\n",
    "nltk.download('punkt')\n",
    "nltk.download('stopwords')\n",
    "stop_words = set(stopwords.words('english'))"
   ]
  },
  {
   "cell_type": "code",
   "execution_count": 7,
   "id": "5f8cfe6b-40af-4e1e-b05f-6ba06e79a0ae",
   "metadata": {},
   "outputs": [
    {
     "name": "stdout",
     "output_type": "stream",
     "text": [
      "Found 11354 smoking-related papers\n"
     ]
    }
   ],
   "source": [
    "metadata_path = \"metadata.csv\"\n",
    "metadata = pd.read_csv(metadata_path, dtype=str)\n",
    "\n",
    "# Define smoking-related keywords (expand as needed)\n",
    "smoking_keywords = [\n",
    "    \"smoking\", \"smoker\", \"smoke\", \"ecigarett\", \"cigarett\",  \"tobacco\", \"cigarette\", \"nicotine\",\n",
    "    \"vaping\", \"vape\", \"e-cigarette\", \"smoker\", \"cigar\", \"weed\", \"marijuana\"\n",
    "]\n",
    "\n",
    "# Filter papers where title/abstract contains smoking-related terms\n",
    "filtered_papers = metadata[\n",
    "    metadata[\"title\"].str.lower().str.contains('|'.join(smoking_keywords), na=False) |\n",
    "    metadata[\"abstract\"].str.lower().str.contains('|'.join(smoking_keywords), na=False)\n",
    "].copy()\n",
    "\n",
    "print(f\"Found {len(filtered_papers)} smoking-related papers\")"
   ]
  },
  {
   "cell_type": "code",
   "execution_count": 8,
   "id": "fe837228-9543-463e-959f-fdd0eee4c189",
   "metadata": {},
   "outputs": [],
   "source": [
    "columns_to_keep = ['cord_uid', 'title', 'abstract', 'publish_time', 'source_x', 'authors', 'pdf_json_files', 'pmc_json_files']\n",
    "\n",
    "filtered_papers = filtered_papers[columns_to_keep]"
   ]
  },
  {
   "cell_type": "code",
   "execution_count": 9,
   "id": "a47b328a-a124-4025-85ca-6f2e0c200bf4",
   "metadata": {},
   "outputs": [
    {
     "data": {
      "text/html": [
       "<div>\n",
       "<style scoped>\n",
       "    .dataframe tbody tr th:only-of-type {\n",
       "        vertical-align: middle;\n",
       "    }\n",
       "\n",
       "    .dataframe tbody tr th {\n",
       "        vertical-align: top;\n",
       "    }\n",
       "\n",
       "    .dataframe thead th {\n",
       "        text-align: right;\n",
       "    }\n",
       "</style>\n",
       "<table border=\"1\" class=\"dataframe\">\n",
       "  <thead>\n",
       "    <tr style=\"text-align: right;\">\n",
       "      <th></th>\n",
       "      <th>cord_uid</th>\n",
       "      <th>title</th>\n",
       "      <th>abstract</th>\n",
       "      <th>publish_time</th>\n",
       "      <th>source_x</th>\n",
       "      <th>authors</th>\n",
       "      <th>pdf_json_files</th>\n",
       "      <th>pmc_json_files</th>\n",
       "    </tr>\n",
       "  </thead>\n",
       "  <tbody>\n",
       "    <tr>\n",
       "      <th>8</th>\n",
       "      <td>8qnrcgnk</td>\n",
       "      <td>Heme oxygenase-1 and carbon monoxide in pulmon...</td>\n",
       "      <td>Heme oxygenase-1 (HO-1), an inducible stress p...</td>\n",
       "      <td>2003-08-07</td>\n",
       "      <td>PMC</td>\n",
       "      <td>Slebos, Dirk-Jan; Ryter, Stefan W; Choi, Augus...</td>\n",
       "      <td>document_parses/pdf_json/faaf1022ccfe93b032c56...</td>\n",
       "      <td>document_parses/pmc_json/PMC193681.xml.json</td>\n",
       "    </tr>\n",
       "    <tr>\n",
       "      <th>41</th>\n",
       "      <td>qva0jt86</td>\n",
       "      <td>Relevance of human metapneumovirus in exacerba...</td>\n",
       "      <td>BACKGROUND AND METHODS: Human metapneumovirus ...</td>\n",
       "      <td>2005-12-21</td>\n",
       "      <td>PMC</td>\n",
       "      <td>Rohde, G; Borg, I; Arinir, U; Kronsbein, J; Ra...</td>\n",
       "      <td>document_parses/pdf_json/4ba79e54ecf81b30b5646...</td>\n",
       "      <td>document_parses/pmc_json/PMC1334186.xml.json</td>\n",
       "    </tr>\n",
       "    <tr>\n",
       "      <th>43</th>\n",
       "      <td>bnnl700a</td>\n",
       "      <td>Public awareness of risk factors for cancer am...</td>\n",
       "      <td>BACKGROUND: The present study aimed to provide...</td>\n",
       "      <td>2006-01-10</td>\n",
       "      <td>PMC</td>\n",
       "      <td>Inoue, Manami; Iwasaki, Motoki; Otani, Tetsuya...</td>\n",
       "      <td>document_parses/pdf_json/a78fd1b34372e1e54bf2a...</td>\n",
       "      <td>document_parses/pmc_json/PMC1351169.xml.json</td>\n",
       "    </tr>\n",
       "    <tr>\n",
       "      <th>473</th>\n",
       "      <td>ft5wl70x</td>\n",
       "      <td>Involvement of microRNAs in physiological and ...</td>\n",
       "      <td>To date, at least 900 different microRNA (miRN...</td>\n",
       "      <td>2010-11-23</td>\n",
       "      <td>PMC</td>\n",
       "      <td>Tomankova, Tereza; Petrek, Martin; Kriegova, Eva</td>\n",
       "      <td>document_parses/pdf_json/b97de55ba907c3b1f3048...</td>\n",
       "      <td>document_parses/pmc_json/PMC3001429.xml.json</td>\n",
       "    </tr>\n",
       "    <tr>\n",
       "      <th>507</th>\n",
       "      <td>1h6jz1h5</td>\n",
       "      <td>Plant Plastid Engineering</td>\n",
       "      <td>Genetic material in plants is distributed into...</td>\n",
       "      <td>2010-11-03</td>\n",
       "      <td>PMC</td>\n",
       "      <td>Wani, Shabir H.; Haider, Nadia; Kumar, Hitesh;...</td>\n",
       "      <td>document_parses/pdf_json/79979652a864cef3a4134...</td>\n",
       "      <td>document_parses/pmc_json/PMC3048312.xml.json</td>\n",
       "    </tr>\n",
       "  </tbody>\n",
       "</table>\n",
       "</div>"
      ],
      "text/plain": [
       "     cord_uid                                              title  \\\n",
       "8    8qnrcgnk  Heme oxygenase-1 and carbon monoxide in pulmon...   \n",
       "41   qva0jt86  Relevance of human metapneumovirus in exacerba...   \n",
       "43   bnnl700a  Public awareness of risk factors for cancer am...   \n",
       "473  ft5wl70x  Involvement of microRNAs in physiological and ...   \n",
       "507  1h6jz1h5                          Plant Plastid Engineering   \n",
       "\n",
       "                                              abstract publish_time source_x  \\\n",
       "8    Heme oxygenase-1 (HO-1), an inducible stress p...   2003-08-07      PMC   \n",
       "41   BACKGROUND AND METHODS: Human metapneumovirus ...   2005-12-21      PMC   \n",
       "43   BACKGROUND: The present study aimed to provide...   2006-01-10      PMC   \n",
       "473  To date, at least 900 different microRNA (miRN...   2010-11-23      PMC   \n",
       "507  Genetic material in plants is distributed into...   2010-11-03      PMC   \n",
       "\n",
       "                                               authors  \\\n",
       "8    Slebos, Dirk-Jan; Ryter, Stefan W; Choi, Augus...   \n",
       "41   Rohde, G; Borg, I; Arinir, U; Kronsbein, J; Ra...   \n",
       "43   Inoue, Manami; Iwasaki, Motoki; Otani, Tetsuya...   \n",
       "473   Tomankova, Tereza; Petrek, Martin; Kriegova, Eva   \n",
       "507  Wani, Shabir H.; Haider, Nadia; Kumar, Hitesh;...   \n",
       "\n",
       "                                        pdf_json_files  \\\n",
       "8    document_parses/pdf_json/faaf1022ccfe93b032c56...   \n",
       "41   document_parses/pdf_json/4ba79e54ecf81b30b5646...   \n",
       "43   document_parses/pdf_json/a78fd1b34372e1e54bf2a...   \n",
       "473  document_parses/pdf_json/b97de55ba907c3b1f3048...   \n",
       "507  document_parses/pdf_json/79979652a864cef3a4134...   \n",
       "\n",
       "                                   pmc_json_files  \n",
       "8     document_parses/pmc_json/PMC193681.xml.json  \n",
       "41   document_parses/pmc_json/PMC1334186.xml.json  \n",
       "43   document_parses/pmc_json/PMC1351169.xml.json  \n",
       "473  document_parses/pmc_json/PMC3001429.xml.json  \n",
       "507  document_parses/pmc_json/PMC3048312.xml.json  "
      ]
     },
     "execution_count": 9,
     "metadata": {},
     "output_type": "execute_result"
    }
   ],
   "source": [
    "filtered_papers.head()"
   ]
  },
  {
   "cell_type": "code",
   "execution_count": 10,
   "id": "32cae4ca-a6e0-42eb-bad5-f78ba78a300d",
   "metadata": {},
   "outputs": [],
   "source": [
    "def extract_body_text(json_path):\n",
    "    \"\"\"Extract and concatenate all 'text' fields from 'body_text' in a JSON file.\"\"\"\n",
    "    try:\n",
    "        with open(json_path, 'r') as f:\n",
    "            data = json.load(f)\n",
    "            return ' '.join(para['text'] for para in data.get('body_text', []))\n",
    "    except Exception as e:\n",
    "        # Optionally print or log the error\n",
    "        return None\n",
    "\n",
    "def get_full_text(row):\n",
    "    # Try PDF JSON first\n",
    "    if pd.notna(row['pdf_json_files']):\n",
    "        for json_path in row['pdf_json_files'].split('; '):\n",
    "            full_path = os.path.join(base_path, json_path.strip())\n",
    "            if os.path.exists(full_path):\n",
    "                return extract_body_text(full_path)\n",
    "    return None  # Return empty dict if no files found"
   ]
  },
  {
   "cell_type": "code",
   "execution_count": 11,
   "id": "b21f2164-07a5-4e1d-9a6c-5e8850ec7b2b",
   "metadata": {},
   "outputs": [
    {
     "name": "stderr",
     "output_type": "stream",
     "text": [
      "Extracting full text sections: 100%|████████████████████████████████████████████| 11354/11354 [00:04<00:00, 2561.58it/s]\n"
     ]
    }
   ],
   "source": [
    "tqdm.pandas(desc=\"Extracting full text sections\")\n",
    "filtered_papers['full_text'] = filtered_papers.progress_apply(get_full_text, axis=1)"
   ]
  },
  {
   "cell_type": "code",
   "execution_count": 12,
   "id": "8f2c116c-21ba-4709-9355-33191b0aa99d",
   "metadata": {},
   "outputs": [
    {
     "name": "stdout",
     "output_type": "stream",
     "text": [
      "<class 'pandas.core.frame.DataFrame'>\n",
      "Index: 11354 entries, 8 to 1056628\n",
      "Data columns (total 9 columns):\n",
      " #   Column          Non-Null Count  Dtype \n",
      "---  ------          --------------  ----- \n",
      " 0   cord_uid        11354 non-null  object\n",
      " 1   title           11353 non-null  object\n",
      " 2   abstract        10625 non-null  object\n",
      " 3   publish_time    11342 non-null  object\n",
      " 4   source_x        11354 non-null  object\n",
      " 5   authors         11285 non-null  object\n",
      " 6   pdf_json_files  4540 non-null   object\n",
      " 7   pmc_json_files  3961 non-null   object\n",
      " 8   full_text       4540 non-null   object\n",
      "dtypes: object(9)\n",
      "memory usage: 887.0+ KB\n"
     ]
    }
   ],
   "source": [
    "filtered_papers.info()"
   ]
  },
  {
   "cell_type": "code",
   "execution_count": 13,
   "id": "8d79a00b-82cc-4fe9-9ff5-dc98b7fbc030",
   "metadata": {},
   "outputs": [
    {
     "name": "stdout",
     "output_type": "stream",
     "text": [
      "<class 'pandas.core.frame.DataFrame'>\n",
      "Index: 4378 entries, 8 to 1056628\n",
      "Data columns (total 9 columns):\n",
      " #   Column          Non-Null Count  Dtype \n",
      "---  ------          --------------  ----- \n",
      " 0   cord_uid        4378 non-null   object\n",
      " 1   title           4378 non-null   object\n",
      " 2   abstract        4378 non-null   object\n",
      " 3   publish_time    4378 non-null   object\n",
      " 4   source_x        4378 non-null   object\n",
      " 5   authors         4370 non-null   object\n",
      " 6   pdf_json_files  4378 non-null   object\n",
      " 7   pmc_json_files  3684 non-null   object\n",
      " 8   full_text       4378 non-null   object\n",
      "dtypes: object(9)\n",
      "memory usage: 342.0+ KB\n"
     ]
    }
   ],
   "source": [
    "filtered_papers = filtered_papers.dropna(subset=['title', 'abstract', 'full_text'])\n",
    "filtered_papers.info()"
   ]
  },
  {
   "cell_type": "code",
   "execution_count": 14,
   "id": "8bfcaf6c-7855-4eb3-ac1a-3db3721b2e5c",
   "metadata": {},
   "outputs": [
    {
     "name": "stdout",
     "output_type": "stream",
     "text": [
      "{'cord_uid': '8qnrcgnk', 'title': 'Heme oxygenase-1 and carbon monoxide in pulmonary medicine', 'abstract': 'Heme oxygenase-1 (HO-1), an inducible stress protein, confers cytoprotection against oxidative stress in vitro and in vivo. In addition to its physiological role in heme degradation, HO-1 may influence a number of cellular processes, including growth, inflammation, and apoptosis. By virtue of anti-inflammatory effects, HO-1 limits tissue damage in response to proinflammatory stimuli and prevents allograft rejection after transplantation. The transcriptional upregulation of HO-1 responds to many agents, such as hypoxia, bacterial lipopolysaccharide, and reactive oxygen/nitrogen species. HO-1 and its constitutively expressed isozyme, heme oxygenase-2, catalyze the rate-limiting step in the conversion of heme to its metabolites, bilirubin IXα, ferrous iron, and carbon monoxide (CO). The mechanisms by which HO-1 provides protection most likely involve its enzymatic reaction products. Remarkably, administration of CO at low concentrations can substitute for HO-1 with respect to anti-inflammatory and anti-apoptotic effects, suggesting a role for CO as a key mediator of HO-1 function. Chronic, low-level, exogenous exposure to CO from cigarette smoking contributes to the importance of CO in pulmonary medicine. The implications of the HO-1/CO system in pulmonary diseases will be discussed in this review, with an emphasis on inflammatory states.', 'publish_time': '2003-08-07', 'source_x': 'PMC', 'authors': 'Slebos, Dirk-Jan; Ryter, Stefan W; Choi, Augustine MK', 'pdf_json_files': 'document_parses/pdf_json/faaf1022ccfe93b032c5608097a53543ba24aedb.json', 'pmc_json_files': 'document_parses/pmc_json/PMC193681.xml.json', 'full_text': 'The heme oxygenase-1/carbon monoxide (HO-1/CO) system has recently seen an explosion of research interest due to its newly discovered physiological effects. This metabolic pathway, first characterized by Tenhunen et al. [1, 2] , has only recently revealed its surprising cytoprotective properties [3, 4] . Research in HO-1/CO now embraces the entire field of medicine where reactive oxygen/nitrogen species, inflammation, growth control, and apoptosis represent important pathophysiological mechanisms [3] [4] [5] [6] . Indeed, the number of publications in recent years concerning HO-1 has increased exponentially, while the list of diseases and physiological responses associated with changes in HO-1 continues to expand [5] . Until now, relatively few studies have addressed the role of HO-1/CO in pulmonary medicine. Several investigators have focused on the diagnostic application of the HO-1/CO system, by measuring exhaled CO (E-CO) in various pathological pulmonary conditions, such as asthma or chronic obstructive pulmonary disease (COPD) [7] . In another experimental approach, investigators have examined the expression of HO-1 in lung tissue from healthy or diseased subjects [8, 9] . This review will highlight the actions of HO-1/CO in the context of heme degradation have antioxidant properties [18, 19] . The liberated heme iron undergoes detoxification either by extracellular efflux or by sequestration into ferritin, an intracellular iron-storage molecule with potential cytoprotective function [20] [21] [22] [23] . Of the three known isoforms of HO (HO-1, HO-2, and HO-3), only HO-1 responds to xenobiotic induction [24] [25] [26] [27] . Constitutively expressed in many tissues, HO-2 occurs at high levels in nervous and vascular tissues, and may respond to regulation by glucocorticoids [25, 28, 29] . HO-1 and HO-2 differ in genetic origin, in primary structure, in molecular weight, and in their substrate and kinetic parameters [25, 26] . HO-3 displays a high sequence homology with HO-2 but has little enzymatic activity [27] . This review will focus on the inducible, HO-1, form. In addition to the physiological substrate heme, HO-1 responds to induction by a wide variety of stimuli associated with oxidative stress. Such inducing agents include hypoxia, hyperoxia, cytokines, nitric oxide (NO), heavy metals, ultraviolet-A (320-380 nm) radiation, heat shock, shear stress, hydrogen peroxide, and thiol (-SH)-reactive substances [3] . The multiplicity of toxic inducers suggest that HO-1 may function as a critical cytoprotective molecule [3, 4] . Many studies have suggested that HO-1 acts as an inducible defense against oxidative stress, in models of inflammation, ischemia-reperfusion, hypoxia, and hyperoxia-mediated injury (reviewed in [3] ). The mechanisms by which HO-1 can mediate cytoprotection are still poorly understood. All three products of the HO reaction potentially participate in cellular defense, of which the gaseous molecule CO has recently received the most attention [30, 31] . The administration of CO at low concentrations can compensate for the protective effects of HO-1 in the presence of competitive inhibitors of HO-1 activity [32] [33] [34] . While HO-1 gene transfer confers protection against oxidative stress in a number of systems, clearly not all studies support a beneficial role for HO-1 expression. Cell-culture studies have suggested that the protective effects of HO-1 overexpression fall within a critical range, such that the excess production of HO-1 or HO-2 may be counterprotective due to a transient excess of reactive iron generated during active heme metabolism [35, 36] . Thus, an important caveat of comparative studies on the therapeutic effects of CO administration versus HO-1 gene delivery arises from the fact that the latter approach, in addition to producing CO, may have profound effects on intracellular iron metabolism. HO-1 expression is primarily regulated at the transcriptional level. Genetic analyses have revealed two enhancer sequences (E1, E2) in the murine HO-1 gene located at -4 kb (E1) and -10 kbp (E2) of the transcriptional start site [37, 38] . These enhancers mediate the induction of HO-1 by many agents, including heavy metals, phorbol esters, endotoxin, oxidants, and heme. E1 and E2 contain repeated stress-responsive elements, which consist of overlapping binding sites for transcription factors including activator protein-1 (AP-1), v-Maf oncoprotein, and the cap\\'n\\'collar/basic-leucine zipper family of proteins (CNC-bZIP), of which Nrf2 (NF-E2-related factor) may play a critical role in HO-1 transcription [39] . The promoter region of HO-1 also contains potential binding sites for nuclear factor κB (NF-κB), though the functional significance of these are not clear [40] . Both NF-κB and AP-1 have been identified as regulatory elements responsive to oxidative cellular stress [40, 41] . In response to hyperoxic stress, AP-1 factors mediated the induction of HO-1 in cooperation with signal-transducer and activator of transcription (STAT) proteins [41] . Furthermore, a distinct hypoxia-response element (HRE), which mediates the HO-1 response to hypoxia, represents a binding site for the hypoxia-inducible factor-1 (HIF-1) [42] . The toxic properties of CO are well known in the field of pulmonary medicine. This invisible, odorless gas still claims many victims each year by accidental exposure. CO evolves from the combustion of organic materials and is present in smoke and automobile exhaust. The toxic actions of CO relate to its high affinity for hemoglobin (240-fold greater than that of O 2 ). CO replaces O 2 rapidly from hemoglobin, causing tissue hypoxia [43] [44] [45] . At high concentrations, other mechanisms of CO-induced toxicity may include apoptosis, lipid peroxidation, and inhibition of drug metabolism and respiratory enzyme functions [44] . Only recently has it become known that, at very low concentrations, CO participates in many physiological reactions. Where a CO exposure of 10,000 parts per million (ppm) (1% by volume CO in air) is toxic, 100-250 ppm (one hundredth to one fortieth as much) will stimulate the physiological effects without apparent toxicity [4] . The majority of endogenous CO production originates from active heme metabolism (>86%), though a portion may be produced in lipid peroxidation and drug metabolism reactions [46] . Cigarette smoking, still practiced by many lung patients, represents a major source of chronic lowlevel exposure to CO. Inhaled CO initially targets alveolar macrophages and respiratory epithelial cells. The exact mechanisms by which CO acts at the molecular level remain incompletely understood. CO potentially exerts its physiological effects by influencing at least three known pathways (Fig. 2 ). By complexation with the heme moiety of the enzyme, CO activates soluble guanylate cyclase (sGC), stimulating the production of cyclic 3\\':5\\'guanosine monophosphate (cGMP) [47] . The sGC/cGMP pathway mediates the effects of CO on vascular relaxation, smooth muscle cell relaxation, bronchodilation, neurotransmission, and the inhibition of platelet aggregation, coagulation, and smooth muscle proliferation [48] [49] [50] [51] . Furthermore, CO may cause vascular relaxation by directly activating calcium-dependent potassium channels [52] [53] [54] . CO potentially influences other intracellular signal transduction pathways. The mitogen-activated protein kinase (MAPK) pathways, which transduce oxidative stress and inflammatory signaling (i.e. response to lipopolysaccharide), may represent an important target Possible mechanism(s) of carbon monoxide action Figure 2 Possible mechanism(s) of carbon monoxide action. Endogenous carbon monoxide (CO) arises principally as a product of heme metabolism, from the action of heme oxygenase enzymes, although a portion may arise from environmental sources such as pharmacological administration or accidental exposure, or other endogenous processes such as drug and lipid metabolism. The vasoregulatory properties of CO, including its effects on cellular proliferation, platelet aggregation, and vasodilation, have been largely ascribed to the stimulation of guanylate cyclase by direct heme binding, leading to the generation of cyclic GMP. The anti-inflammatory properties of CO are associated with the downregulation of proinflammatory cytokine production, dependent on the selective modulation of mitogen-activated protein kinase (MAPK), such as the 38 kilodalton protein (p38MAPK). In addition to these two mechanisms, CO may potentially interact with any hemoprotein target, though the functional consequences of these interactions with respect to cellular signaling remain poorly understood. Anti-Platelet Aggregation Anti-Proliferation  ? Inhibition of pro-inflammatory cytokine production Modulation of hemoprotein function of CO action [32, 34, 55, 56 ]. An anti-apoptotic effect of CO and its relation to MAPK has recently been described. The overexpression of HO-1 or the exogenous administration of CO prevented tumor necrosis factor α (TNF-α)induced apoptosis in murine fibroblasts [57] . In endothelial cells, the anti-apoptotic effect of CO depended on the modulation of the p38 (38 kilodalton protein) MAPK pathway [34] . The role of the remaining heme metabolites, (i.e. Fe and biliverdin IXα) in the modulation of apoptosis is currently being investigated and is beyond the scope of this review. Recent studies have reported a potent anti-inflammatory effect of CO, involving the inhibition of proinflammatory cytokine production after endotoxin stimulation, dependent on the modulation of p38 MAPK [32] . The clinical relevance of p38 MAPK lies in the possibility of modulating this pathway in various clinical conditions to downregulate the inflammatory response [58] . Oxidative stress arising from an imbalance between oxidants and antioxidants plays a central role in the pathogenesis of airway disease [59] . In lung tissue, HO-1 expression may occur in respiratory epithelial cells, fibroblasts, endothelial cells, and to a large extent in alveolar macrophages [41, 60, 61] . HO-1 induction in these tissues, in vitro and in vivo, responds to common causes of oxidative stress to the airways, including hyperoxia, hypoxia, endotoxemia, heavy metal exposure, bleomycin, diesel exhaust particles, and allergen exposure [4, 41, 61] . Induction of HO-1 or administration of CO can protect cells from these stressful stimuli [10, 41] . In one of the experiments that best illustrate the protective role of CO in vivo, rats were exposed to hyperoxia (>98% O 2 ) in the absence or presence of CO at low concentration (250 ppm). The CO-treated rats showed increased survival and a diminished inflammatory response to the hyperoxia [11] . As demonstrated in a model of endotoxin-induced inflammation, the protection afforded by CO most likely resulted from the downregulated synthesis of proinflammatory cytokines (i.e. TNF-α, IL-1β) and the upregulation of the anti-inflammatory cytokine interleukin-10 (IL-10) [32] . Furthermore, increases in exhaled CO (E-CO) have been reported in a number of pathological pulmonary conditions, such as unstable asthma, COPD, and infectious lung disease; these increases may reflect increased endogenous HO-1 activity [7] . Elevated carboxyhemoglobin (Hb-CO) levels have also been reported in these same diseases in nonsmoking subjects, where both the E-CO and Hb-CO levels decrease to normal levels in response to therapy [62] . E-CO in humans originates primarily from both systemic heme metabolism, which produces CO in various tissues, and localized (lung) heme metabolism, as a result of the combined action of inducible HO-1 and constitutive HO-2 enzymatic activity. Endogenously produced or inspired CO is eliminated exclusively by respiration [63] . Elevation of E-CO may also reflect an increase in exogenous sources such as smoking or air pollution. In addition to changes in environmental factors, elevations of E-CO in lung diseases may reflect an increase in blood Hb-CO levels in response to systemic inflammation, as well as an increase in pulmonary HO-1 expression in response to local inflammation [9, 62, 64] . The diagnostic value of measuring E-CO remains controversial due to many conflicting reports (i.e. some reports indicate differences in E-CO measurements between disease activity and controls, and some reports do not). The possible explanations for these discrepancies include large differences in patient populations and in the methods used for measuring E-CO, and undefined corrections for background levels of CO. Furthermore, remarkable differences arise between studies in the magnitude of the E-CO levels in the control groups as well as in treated or untreated asthma patients. When active or passive smoking occurs, or in the presence of high background levels of CO, the measurement of E-CO is not particularly useful for monitoring airway inflammation. In patients who smoke, E-CO can be used only to confirm the smoking habit [65, 66] . Comparable to the beginning era of measurements of exhaled NO, a standardization in techniques and agreement on background correction should be reached for E-CO measurements, to allow proper conclusions to be drawn in this area of investigation. Asthma, a form of allergic lung disease, features an accumulation of inflammatory cells and mucus in the airways, associated with bronchoconstriction and a generalized airflow limitation. Inflammation, a key component of asthma, involves multiple cells and mediators where an imbalance in oxidants/antioxidants contributes to cell damage. Several pathways associated with oxidative stress may participate in asthma. For example, the redox-sensitive transcription factors NF-κB and AP-1 control the expression of proinflammatory mediators [59, [67] [68] [69] . In light of the potential protective effects of HO-1/CO on inflammatory processes, the study of HO-1 in asthma has gained popularity. In a mouse model of asthma, HO-1 expression increased in lung tissue in response to ovalbumin aerosol challenge, indicating a role for HO-1 in asthma [70] . In a similar model of aeroallergen-induced asthma in ovalbumin-sensitized mice, exposure to a CO atmosphere resulted in a marked attenuation of eosinophil content in bronchoalveolar lavage fluid (BALF) and downregulation of the proinflammatory cytokine IL-5 [10] . This experiment showed that exogenous CO can inhibit asthmatic responses to allergens in mice. Recent human studies have revealed higher HO-1 expression in the alveolar macrophages and higher E-CO in untreated asthmatic patients than in healthy nonsmoking controls [71, 72] . Patients with exacerbations of asthma and patients who were withdrawn from inhaled steroids showed higher E-CO levels than steroid-treated asthmatics or healthy controls [73] . Higher levels of E-CO may also occur in children with persistent asthma than in healthy controls [74] . E-CO levels may correlate with functional parameters such as peak expiratory flow rate. A low rate in asthma exacerbations correlated with high E-CO, whereas normalization of the rate with oral glucocorticoid treatment resulted in a reduction of E-CO [75] . Furthermore, increased E-CO was associated with greater expression of HO-1 in airway alveolar macrophages obtained by induced sputum in untreated asthmatic patients than in controls. These asthma patients also showed higher bilirubin levels in the induced sputum, indicating higher HO activity [71] . Furthermore, patients with asthma show an increased Hb-CO level at the time of exacerbation, with values decreasing to control levels after oral glucocorticoid treatment [62] . In human asthmatics, E-CO and airway eosinophil counts decreased in response to a one-month treatment with inhaled corticosteroids [73] . In direct contrast to such studies promoting E-CO as a useful noninvasive tool for monitoring airway inflammation, other studies reported no difference in E-CO levels of asthma patients versus healthy controls, or between patients with stable and unstable asthma. In one such report, no further change in E-CO occurred in asthma patients after a one-month treatment of inhaled corticosteroids, despite observed decreases in airway eosinophil content and bronchial responsiveness to metacholine [76] . A recent study accentuates this finding in asthma excerbations, where no decrease in E-CO of children with asthma could be detected after oral prednisolone treatment [77] . In human allergic responses, results on elevation of E-CO are also inconclusive. A clear elevation of E-CO after allergen exposure occurred in patients with asthma during the late response, and during the early response immediately after the inhalation [78] . However, another report showed that no elevation of E-CO occurred in allergen-induced asthma within 48 hours after allergen challenge [79] . Finally, increases in E-CO were measured in allergic rhinitis, correlating with seasonal changes in exposure to allergen (pollen) [80] . Airway inflammation plays an important role in the development of COPD, characterized by the presence of macrophages, neutrophils, and inflammatory mediators such as proteinases, oxidants, and cytokines. Further-more, the inflammatory consequences of chronic microbiological infections may contribute to the progression of the disease. The current paradigm for the pathogenesis of COPD involves imbalances in protease/antiprotease activities and antioxidant/pro-oxidant status. Proteases with tissue-degrading capacity, (i.e. elastases and matrix metalloproteinases), when insufficiently inhibited by antiproteases, can induce tissue damage leading to emphysema. Oxidants that supersede cellular antioxidant defenses can furthermore inactivate antiproteases, cause direct injury to lung tissue, and interfere with the repair of the extracellular matrix. Smoking plays an important role in both hypotheses. Cigarette smoke will act primarily on alveolar macrophages and epithelial cells, which react to this oxidative stress by producing proinflammatory cytokines and chemokines and releasing growth factors. Nevertheless, smoking cannot be the only factor in the development of COPD, since only 15-20% of smokers develop the disease [81, 82] . Exposure to reactive oxygen species (from cigarette smoke or chronic infections) and an imbalance in oxidant/antioxidant status are the main risk factors for the development of COPD. To defend against oxidative stress, cells and tissues contain endogenous antioxidant defense systems, which include millimolar concentrations of the tripeptide glutathione (GSH). A close relation exists between GSH concentration and HO-1, whereby depletion of GSH augments the transcriptional regulation of HO-1 by oxidants, suggesting that the HO-1/CO system acts as a secondary defense against oxidative stress [83] [84] [85] [86] . Accumulating clinical evidence suggests that HO-1/ CO may also play an important part in COPD. Alveolar macrophages, which produce a strong HO-1 response to stimuli, may represent the main source of CO production in the airways [60, 64] . Patients with COPD have displayed higher E-CO than healthy nonsmoking controls [87] . Furthermore, much higher levels of HO-1 have been observed in the airways of smokers than in nonsmokers [64] . Among subjects who formerly smoked, patients with COPD have lower HO-1 expression in alveolar macrophages than healthy subjects [88] . A microsatellite polymorphism that is linked with the development of COPD may occur in the promoter region of HO-1, resulting in a lower production of HO-1 in people who have the polymorphism. Thus, a genetically dependent downregulation of HO-1 expression may arise in subpopulations, possibly linked to increased susceptibility to oxidative stress [89] [90] [91] . Future studies on both genetic predisposition and possible therapeutic modalities will reveal the involvement of the HO-1/CO system in COPD. Cystic fibrosis (CF) involves a deposition of hyperviscous mucus in the airways associated with pulmonary dysfunc-tion and pancreatic insufficiency, which may be accompanied by chronic microbiological infections. E-CO readings were higher in untreated versus oral-steroidtreated CF patients [92] . Furthermore, E-CO increased in patients during exacerbations of CF, correlating to deterioration of the forced expiratory volume in one second (FEV 1 ), with normalization of the E-CO levels after treatment [93] . E-CO levels may correlate with exhaled ethane, a product of lipid peroxidation that serves as an indirect marker of oxidative stress. Both E-CO and exhaled ethane were higher in steroid-treated and untreated CF patients than in healthy controls [94] . E-CO was higher in children with CF than in control patients. In addition to the inflammatory and oxidative stress responses to continuous infectious pressure in these patients, E-CO may possibly respond to hypoxia. E-CO increased further in CF children following an exercise test, and correlated with the degree of oxyhemoglobin desaturation, a finding suggestive of an increased HO-1 expression in CF patients during hypoxic states induced by exercise [95] . In patients with pneumonia, higher Hb-CO levels can be measured at the onset of illness, with values decreasing to control levels after antibiotic treatment [62] . E-CO levels were reported to be higher in lower-respiratory-tract infections and bronchiectasis, with normalization after antibiotic treatment [96, 97] . Furthermore, E-CO levels in upper-respiratory-tract infections were higher than in healthy controls [74, 80] . The relationship between higher measured E-CO in these infectious states and higher Hb-CO levels cannot be concluded from these studies. The role of HO-1 in the development of interstitial lung disease remains undetermined. Comparative immunohistochemical analysis has revealed that lung tissue of control subjects, patients with sarcoidosis, usual interstitial pneumonia, and desquamative interstitial pneumonia, all showed a high expression of HO-1 in the alveolar macrophages but a weak expression in the fibrotic areas [98] . The antiproliferative properties of HO-1 suggest a possible beneficial role in limiting fibrosis; however, this hypothesis is complicated by a newly discovered relation between IL-10 and HO-1. IL-10 produced by bronchial epithelial cells promotes the growth and proliferation of lung fibroblasts [99] . HO-1 expression and CO treatment have been shown to increase the production of IL-10 in macrophages following proinflammatory stimuli [32] . Conversely, IL-10 induces HO-1 production, which is apparently required for the anti-inflammatory action of IL-10 [100] . A recent report clearly shows the suppression of bleomycin-induced pulmonary fibrosis by adenovirus-mediated HO-1 gene transfer and overexpression in C57BL/6 mice, involving the inhibition of apoptotic cell death [101] . Overall, more research is needed to elucidate the mechanisms of HO-1 in interstitial lung disease and its possible therapeutic implications. HO-1 action may be of great importance in solid tumors, an environment that fosters hypoxia, oxidative stress, and neovascularization. HO-1 may have both pro-and antagonistic effects on tumor growth and survival. HO-1 and CO cause growth arrest in cell-culture systems and thus may represent a potential therapeutic modality in modulating tumor growth [16] . The overexpression of HO-1 or administration of CO in mesothelioma and adenocarcinoma mouse models resulted in improved survival (>90%) as well as reduction in tumor size (>50%) [17] . Furthermore, HO-1 expression in oral squamous cell carcinomas can be useful in identifying patients at low risk of lymph node metastasis. High expression of HO-1 was detected in groups without lymph node metastasis in this report [102] . In contrast to growth arrest, HO-1 may protect solid tumors from oxidative stress and hypoxia, possibly by promoting neovascularization. In one study, zinc protoporphyrin, a competitive inhibitor of HO-1 enzyme activity, suppressed tumor growth [103] . CO may represent a critical mediator of the body\\'s adaptive response to hypoxia, a common feature in pulmonary vascular disease [104] . Since CO can modulate vascular tone by inducing cGMP and large, calcium-dependent potassium channels, HO-1 and CO probably play important roles in pulmonary vascular diseases [54] . A NOmediated HO-1 induction occurred in the hepatopulmonary syndrome during cirrhosis, associated with enhancement of vascular relaxation [105] . In portopulmonary hypertension, elevated levels of cGMP and inducible nitric oxide synthase (iNOS) expression in the vascular endothelium, and HO-1 expression in macrophages and bronchial epithelium have been described [106] . In transgenic mice models, ho-1 -/and ho-1 +/+ mice did not differ in their development of pulmonary hypertension following chronic hypoxia treatment, despite the development of right ventricular dilation and right myocardial infarction in ho-1 -/mice [107] . The preinduction of HO-1 protein with chemical inducers, however, prevented the development of pulmonary hypertension in the rat lung as a consequence of chronic hypoxia treatment [108] . Transgenic mice overexpressing HO-1 in the lung were resistant to hypoxia-induced inflammation and hypertension [109] . Further research is needed to elucidate the potential role of HO-1 and CO in primary human lung vascular diseases such as primary pulmonary hypertension. Supplemental oxygen therapy is often used clinically in the treatment of respiratory failure. Exposure to high oxygen tension (hyperoxia) may cause acute and chronic lung injury, by inducing an extensive inflammatory response in the lung that degrades the alveolar-capillary barrier, leading to impaired gas exchange and pulmonary edema [110, 111] . Hyperoxia-induced lung injury causes symptoms in rodents that resemble human acute respiratory distress syndrome [112] . Hyperoxia induced HO-1 expression in adult rats but apparently not in neonatal rats, in which the expression and activities of HO-1 and HO-2 are developmentally upregulated during the prenatal and early postnatal period [113] . Both HO-1 and HO-2 potentially influence pulmonary adaptation to high O 2 levels. In one example, the adenoviral-mediated gene transfer of HO-1 into rat lungs protected against the development of lung apoptosis and inflammation during hyperoxia [114] . In vitro studies showed that the overexpression of HO-1 in lung epithelial cells or rat fetal lung cells caused growth arrest and conferred resistance against hyperoxia-induced cell death [15, 16] . An oxygen-tolerant variant of hamster fibroblasts that moderately overexpressed HO-1 in comparison with the parent line resisted oxygen toxicity in vitro. The treatment of this oxygen-tolerant strain with HO-1 antisense oligonucleotides reduced the resistance to hyperoxia. In contrast, additional, vector-mediated, HO-1 expression did not further increase oxygen tolerance in this model [115] . In vivo studies with gene-deleted mouse strains have provided much information on the roles of HO-1 and HO-2 in oxygen tolerance. Dennery et al. demonstrated that heme oxygenase-2 knockout mice (ho-2 -/-) were more sensitive to the lethal effects of hyperoxia than wild-type mice [116] . In addition to the absence of HO-2 expression, however, the mice displayed a compensatory increase in HO-1 protein expression, and higher total lung HO activity. Thus, in this model, the combination of HO-2 deletion and HO-1 overexpression resulted in a hyperoxiasensitive phenotype. Recent studies of Dennery et al. have shown that HO-1-deleted (ho-1 -/-) mice were more resistant to the lethal effects of hyperoxia than the corresponding wild type [117] . The hyperoxia resistance observed in the ho-1 -/strain could be reversed by the reintroduction of HO-1 by adenoviral-mediated gene transfer [117] . In contrast, mouse embryo fibroblasts derived from ho-1 -/mice showed increased sensitivity to the toxic effects of hemin and H 2 O 2 and generated more intracellular reactive oxygen species in response to these agents [118] . Both ho-1 -/-and ho-2 -/strains were anemic, yet displayed abnormal accumulations of tissue iron. Specifically, ho-1 -/accumulated nonheme iron in the kidney and liver and had decreased total iron content in the lung, while ho-2 -/mice accumulated total lung iron in the absence of a compensatory increase in ferritin levels [116, 119] . The mechanism(s) by which HO-1 or HO-2 deletions result in accumulation of tissue iron remain unclear. These studies, taken together, have indicated that animals deficient in either HO-1 and HO-2 display altered sensitivity to oxidative stress conditions. Aberrations in the distribution of intra-and extra-cellular iron, may underlie in part, the differential sensitivity observed [116, 117] . Otterbein et al. have shown that exogenous CO, through anti-inflammatory action, may protect the lung in a rat model of hyperoxia-induced lung injury. The presence of CO (250 ppm) prolonged the survival of rats in a hyperoxic (>95% O 2 ) environment, and inhibited the appearance of markers of hyperoxia-induced lung injury (i.e. hemorrhage, fibrin deposition, edema, airway protein accumulation, and BALF neutrophil influx) [11] . Furthermore, in a mouse model, CO inhibited the expression of proinflammatory cytokines (TNF-α, IL-1β, and IL-6) in mice induced by the hyperoxia treatment. Using genedeleted mice, Otterbein and colleagues also observed that the protection afforded by CO in this model, similar to a lipopolysaccharide-induced model of lung injury, depended on the p38 MAPK pathway (Otterbein et al., unpublished observation, as reviewed in [3] ). In direct contrast to these studies, the group of Piantadosi and colleagues reported no significant difference in the hyperoxia tolerance of rats at CO doses between 50 and 500 ppm [120] . In their model, CO did not alter the accumulation of fluid in the airway. Furthermore, CO, when applied in combination with hyperoxia, increased the activity of myeloperoxidase, a marker of airway neutrophil influx. This study also suggested that inhalation of CO (50-500 ppm) did not alter the expression of HO-1 or other antioxidant enzymes such as Manganese superoxide dismutase (MnSOD) in vivo [120] . Furthermore, Piantadosi and colleagues were able to induce oxygen tolerance in rats and HO-1 expression with hemoglobin treatment, but this tolerance also occurred in the presence of HO inhibitors, thereby not supporting a role for HO activity in oxygen tolerance [121] . Although no consensus has been reached as to the protective role of CO inhalation and/or HO-1 induction in hyperoxic lung injury, human studies will be required to show if CO will supersede NO in providing a significant therapeutic benefit in the context of severe lung diseases [122] . While antioxidant therapies have been examined, until now no human studies exist on the role of HO-1 and CO in acute respiratory distress syndrome (ARDS) and bronchopulmonary dysplasia [123] . Lung transplantation is the ultimate and often last therapeutic option for several end-stage lung diseases. After lung transplantation, there remains an ongoing hazardous situation in which both acute and chronic graft failure, as well as complications of the toxic immunosuppressive regimen used (i.e. severe bacterial, fungal, and viral infections; renal failure; and Epstein-Barr-virus-related lymphomas), determine the outcome [124] . The development of chronic graft failure, obliterative bronchiolitis (OB), determines the overall outcome after lung transplantation. OB, which may develop during the first months after transplantation, is the main cause of morbidity and death following the first half-year after transplantation, despite therapeutic intervention. Once OB has developed, retransplantation remains the only therapeutic option available [124, 125] . Little is known about the pathophysiological background of OB. The possible determinants of developing OB include ongoing immunological allograft response, HLADR mismatch, cytomegalovirus infection, acute rejection episodes, organ-ischemia time, and recipient age [125] . OB patients displayed elevated neutrophil counts in the BALF, and evidence of increased oxidant activity, such as increased methionine oxidation in BALF protein and decreases in the ratio of GSH to oxidized glutathione (GSSG) in epithelial lining fluid. [126, 127] . So far, only very limited research data are available on the possible role for HO-1 in allograft rejection after lung transplantation. Higher HO-1 expression has been detected in alveolar macrophages from lung tissue in lung transplant recipients with either acute or chronic graft failure than in stable recipients [128] . The protective role of HO-1 against allograft rejection has been shown in other transplantation models, in which solid organ transplantation typically benefits from HO-1 modulation. A higher expression of protective genes such as HO-1 has been observed in episodes of acute renal allograft rejection [129] . Furthermore, the induction of HO-1 alleviates graft-versus-host disease [130] . Adenoviral-HO-1 gene therapy resulted in remarkable protection against rejection in rat liver transplants [131] . The upregulation of HO-1 protected pancreatic islet cells from Fas-mediated apoptosis in a dose-dependent fashion, supporting an anti-apoptotic function of HO-1 [132, 133] . HO-1 may confer protection in the early phase after transplantation by inducing Th2-dependent cytokines such as IL-4 and IL-10, while suppressing interferon-γ and IL-2 production, as demonstrated in a rat liver allograft model [134] . Beneficial effects of HO-1 modulation have also been described in xenotransplantation models, in which HO-1 gene expression appears functionally associated with xenograft survival [135] . In a mouse-to-rat heart trans-plant model, the effects of HO-1 upregulation could be mimicked by CO administration, suggesting that HOderived CO suppressed the graft rejection [136] . The authors proposed that CO suppressed graft rejection by inhibition of platelet aggregation, a process that facilitates vascular thrombosis and myocardial infarction. HO-1 may also contribute to ischemic preconditioning, a process of acquired cellular protection against ischemia/ reperfusion injury, as observed in guinea pig transplanted lungs [137] . HO-1 overexpression provided potent protection against cold ischemia/reperfusion injury in a rat model through an anti-apoptotic pathway [138, 139] . The induction of HO-1 in rats undergoing liver transplantation with cobalt-protoporphyrin or adenoviral-HO-1 gene therapy resulted in protection against ischemia/ reperfusion injury and improved survival after transplantation, possibly by suppression of Th1-cytokine production and decreased apoptosis after reperfusion [140, 141] . Until now, no reports have addressed E-CO measurements in lung transplantation, where it is possible that differences in E-CO will be found in patients with acute and chronic allograft rejection. The evolution of CO in exhaled breath may serve as a general marker and diagnostic indicator of inflammatory disease states of the lung, though more research will be required to verify its reliability. Increases in exhaled CO presumably reflect changes in systemic and airway heme metabolic activity from the action of HO enzymes. Evidence from numerous in vitro and animal studies indicates that HO-1 provides a protective function in many, if not all, diseases that involve inflammation and oxidative stress. Thus, the exploitation of HO-1 for therapeutic gain could be achieved through the modulation of HO-1 enzyme activity or its up-and downstream regulatory factors, either by gene transfer, pharmacological inducers, or direct application of CO by gas administration or chemical delivery [142] [143] [144] [145] . The CO-releasing molecules (transition metal carbonyls) developed by Motterlini et al. [144] show promise in the pharmacological delivery of CO for therapeutic applications in vascular and immune regulation. The CO-releasing molecules have been shown to limit hypertension in vivo and promote vasorelaxation in isolated heart and aortic rings [144] . Ultimately, the challenge remains in applying the therapeutic potentials of HO-1 to the treatment of human diseases. In vivo models of transplantation have shown that HO-1 gene therapy protects against allograft rejection [129, 134] . Given the toxic therapy that every transplant patient receives, especially after lung transplantation, the field of transplantation medicine may bring the first frontier for human applications of HO-1 gene therapy or exogenous CO administration. The potential use of inhalation CO as a clinical therapeutic in inflammatory lung diseases has also appeared on the horizon. In one promising study, an inhalation dose of 1500 ppm CO at the rate of 20 times per day for a week produced no cardiovascular side effects [146] . Cigarette smoking and CO inhalation at identical intervals produced comparable Hb-CO levels of approximately 5%. The question of whether or not CO can be used as an inhalation therapy will soon be replaced by questions of \"how much, how long, and how often?\" The fear of administering CO must be weighed against the severe toxicity of the immunosuppressive agents in current use, and the often negative outcome of solid organ transplantation. '}\n"
     ]
    }
   ],
   "source": [
    "print(filtered_papers.iloc[0].to_dict())"
   ]
  },
  {
   "cell_type": "code",
   "execution_count": 15,
   "id": "df821311-03a9-45e0-9280-efe4196b5dce",
   "metadata": {},
   "outputs": [
    {
     "name": "stdout",
     "output_type": "stream",
     "text": [
      "count    4.378000e+03\n",
      "mean     2.693090e+04\n",
      "std      2.441819e+04\n",
      "min      1.227000e+03\n",
      "25%      1.748800e+04\n",
      "50%      2.425250e+04\n",
      "75%      3.197325e+04\n",
      "max      1.276458e+06\n",
      "Name: text_length, dtype: float64\n"
     ]
    }
   ],
   "source": [
    "filtered_papers['combined_text'] = (\n",
    "    filtered_papers['title'].fillna('') + '. ' +\n",
    "    filtered_papers['abstract'].fillna('') + '. ' +\n",
    "    filtered_papers['full_text'].fillna('')\n",
    ")\n",
    "\n",
    "# Basic statistics\n",
    "filtered_papers['text_length'] = filtered_papers['combined_text'].str.len()\n",
    "print(filtered_papers['text_length'].describe())\n",
    "\n",
    "# Example anomaly filter: drop if text is too short or too long\n",
    "min_length = 200   # adjust as needed\n",
    "max_length = 30000 # adjust as needed\n",
    "filtered_papers = filtered_papers[\n",
    "    (filtered_papers['text_length'] >= min_length) &\n",
    "    (filtered_papers['text_length'] <= max_length)\n",
    "].copy()"
   ]
  },
  {
   "cell_type": "code",
   "execution_count": 16,
   "id": "f2e89550-55e9-463e-9f01-d5117ce3ea7d",
   "metadata": {},
   "outputs": [
    {
     "name": "stdout",
     "output_type": "stream",
     "text": [
      "<class 'pandas.core.frame.DataFrame'>\n",
      "Index: 3077 entries, 41 to 1056343\n",
      "Data columns (total 11 columns):\n",
      " #   Column          Non-Null Count  Dtype \n",
      "---  ------          --------------  ----- \n",
      " 0   cord_uid        3077 non-null   object\n",
      " 1   title           3077 non-null   object\n",
      " 2   abstract        3077 non-null   object\n",
      " 3   publish_time    3077 non-null   object\n",
      " 4   source_x        3077 non-null   object\n",
      " 5   authors         3076 non-null   object\n",
      " 6   pdf_json_files  3077 non-null   object\n",
      " 7   pmc_json_files  2538 non-null   object\n",
      " 8   full_text       3077 non-null   object\n",
      " 9   combined_text   3077 non-null   object\n",
      " 10  text_length     3077 non-null   int64 \n",
      "dtypes: int64(1), object(10)\n",
      "memory usage: 288.5+ KB\n"
     ]
    }
   ],
   "source": [
    "filtered_papers.info()"
   ]
  },
  {
   "cell_type": "code",
   "execution_count": 17,
   "id": "079cf1df-6bf6-481e-97fe-c687527d707e",
   "metadata": {},
   "outputs": [],
   "source": [
    "def clean_text(text):\n",
    "    # Remove non-UTF8 and normalize unicode\n",
    "    text = unicodedata.normalize(\"NFKC\", text)\n",
    "    text = text.encode(\"utf-8\", \"ignore\").decode(\"utf-8\", \"ignore\")\n",
    "    # Remove HTML/XML tags\n",
    "    text = re.sub(r\"<[^>]+>\", \" \", text)\n",
    "    # Remove LaTeX (very basic)\n",
    "    text = re.sub(r\"\\$.*?\\$\", \" \", text)\n",
    "    # Remove references like [1], (1), etc.\n",
    "    text = re.sub(r\"\\[\\d+\\]|\\(\\d+\\)\", \" \", text)\n",
    "    # Remove non-printable characters\n",
    "    text = re.sub(r\"[^\\x20-\\x7E]\", \" \", text)\n",
    "    # Normalize whitespace\n",
    "    text = re.sub(r\"\\s+\", \" \", text)\n",
    "    # Lowercase for stopword removal\n",
    "    text = text.lower()\n",
    "    # # Remove stopwords\n",
    "    # words = text.split()\n",
    "    # words = [word for word in words if word not in stop_words]\n",
    "    # text = \" \".join(words)\n",
    "    # Strip leading/trailing whitespace\n",
    "    text = text.strip()\n",
    "    return text"
   ]
  },
  {
   "cell_type": "code",
   "execution_count": 32,
   "id": "d361c856-babd-47cf-ab54-ba03673eac32",
   "metadata": {},
   "outputs": [],
   "source": [
    "model_name_embed=\"sentence-transformers/all-MiniLM-L6-v2\"\n",
    "model_name_llm=\"TinyLlama/TinyLlama-1.1B-Chat-v1.0\"\n",
    "chunk_size=200\n",
    "persist_dir=\"storage\""
   ]
  },
  {
   "cell_type": "code",
   "execution_count": 33,
   "id": "606ccc2b-052e-49f7-b048-440039ad9dce",
   "metadata": {},
   "outputs": [],
   "source": [
    "def chunk_text(text, chunk_size):\n",
    "    words = text.split(\" \")\n",
    "    return [\n",
    "        \" \".join(words[i:i + chunk_size])\n",
    "        for i in range(0, len(words), chunk_size)\n",
    "    ]\n",
    "\n",
    "def prepare_documents(df, chunk_size, text_column=\"combined_text\"):\n",
    "    print(\"Chunking documents...\")\n",
    "    chunks = []\n",
    "    for text in tqdm(df[text_column].dropna().values):\n",
    "        for chunk in chunk_text(text, chunk_size):\n",
    "            chunks.append(Document(text=chunk))\n",
    "    print(f\"Total chunks: {len(chunks)}\")\n",
    "    return chunks\n",
    "\n",
    "def build_index(documents, model_name_embed, device, persist_dir):\n",
    "    print(\"Building vector index with CUDA embeddings...\")\n",
    "    Settings.llm = None\n",
    "    Settings.embed_model = HuggingFaceEmbedding(\n",
    "        model_name=model_name_embed, device=device\n",
    "    )\n",
    "    index = VectorStoreIndex.from_documents(\n",
    "        documents, show_progress=True, insert_batch_size=len(documents)\n",
    "    )\n",
    "    print(\"Persisting index to disk...\")\n",
    "    index.storage_context.persist(persist_dir=persist_dir)\n",
    "    print(f\"VectorStoreIndex saved to {persist_dir}.\")\n",
    "    return index\n",
    "\n",
    "def load_index(persist_dir):\n",
    "    print(f\"Loading index from {persist_dir}...\")\n",
    "    loaded_storage_context = StorageContext.from_defaults(persist_dir=persist_dir)\n",
    "    index = load_index_from_storage(loaded_storage_context)\n",
    "    print(\"Index loaded.\")\n",
    "    return index\n",
    "\n",
    "def setup_llm(model_name_llm):\n",
    "    print(\"Setting up local LLM...\")\n",
    "    llm = HuggingFaceLLM(\n",
    "        model_name=model_name_llm,\n",
    "        tokenizer_name=model_name_llm,\n",
    "        context_window=2048,\n",
    "        max_new_tokens=256,\n",
    "        device_map=\"cuda:0\",\n",
    "        generate_kwargs={\"temperature\": 0.95, \"do_sample\": True},\n",
    "    )\n",
    "    Settings.llm = llm\n",
    "\n",
    "def setup_chat_engine(index, system_prompt=None):\n",
    "    print(\"Setting up chat engine...\")\n",
    "    if system_prompt is None:\n",
    "        system_prompt = (\n",
    "            \"You are a medical chatbot, able to have normal interactions. \"\n",
    "            \"You only answer based on the Cord19 dataset.\"\n",
    "        )\n",
    "    chat_engine = index.as_chat_engine(\n",
    "        chat_mode=\"context\",\n",
    "        memory=ChatMemoryBuffer.from_defaults(token_limit=32000),\n",
    "        system_prompt=system_prompt,\n",
    "    )\n",
    "    return chat_engine\n",
    "\n",
    "def chat(chat_engine):\n",
    "    print(\"Chatbot is ready! Type your question or 'quit' to exit.\")\n",
    "    while True:\n",
    "        query = input(\"> \")\n",
    "        if query.lower() == \"quit\":\n",
    "            break\n",
    "        print(\"Agent: \", end=\"\", flush=True)\n",
    "        response = chat_engine.stream_chat(query)\n",
    "        for token in response.response_gen:\n",
    "            print(token, end=\"\", flush=True)\n",
    "        print()\n",
    "    chat_engine.reset()"
   ]
  },
  {
   "cell_type": "code",
   "execution_count": 24,
   "id": "e814000f-eece-4666-99bb-8f8b1bce7757",
   "metadata": {},
   "outputs": [
    {
     "name": "stdout",
     "output_type": "stream",
     "text": [
      "Chunking documents...\n"
     ]
    },
    {
     "name": "stderr",
     "output_type": "stream",
     "text": [
      "100%|█████████████████████████████████████████████████████████████████████████████| 3077/3077 [00:01<00:00, 2507.37it/s]"
     ]
    },
    {
     "name": "stdout",
     "output_type": "stream",
     "text": [
      "Total chunks: 47447\n"
     ]
    },
    {
     "name": "stderr",
     "output_type": "stream",
     "text": [
      "\n"
     ]
    }
   ],
   "source": [
    "# Load your DataFrame (replace with your actual loading code)\n",
    "# df = pd.read_csv(\"your_data.csv\")\n",
    "# For demonstration, let's assume df is already loaded and cleaned\n",
    "\n",
    "\n",
    "# Step 1: Prepare documents (chunking)\n",
    "documents = prepare_documents(filtered_papers, chunk_size)"
   ]
  },
  {
   "cell_type": "code",
   "execution_count": 26,
   "id": "ee49b645-4f9c-41b3-90fd-9a99fcf09af8",
   "metadata": {},
   "outputs": [
    {
     "name": "stdout",
     "output_type": "stream",
     "text": [
      "Building vector index with CUDA embeddings...\n",
      "LLM is explicitly disabled. Using MockLLM.\n"
     ]
    },
    {
     "data": {
      "application/vnd.jupyter.widget-view+json": {
       "model_id": "f82c821406ba4c498595e1648d3ba1bb",
       "version_major": 2,
       "version_minor": 0
      },
      "text/plain": [
       "modules.json:   0%|          | 0.00/349 [00:00<?, ?B/s]"
      ]
     },
     "metadata": {},
     "output_type": "display_data"
    },
    {
     "data": {
      "application/vnd.jupyter.widget-view+json": {
       "model_id": "6717987509e449b7b3d5c37721aaf5d0",
       "version_major": 2,
       "version_minor": 0
      },
      "text/plain": [
       "config_sentence_transformers.json:   0%|          | 0.00/116 [00:00<?, ?B/s]"
      ]
     },
     "metadata": {},
     "output_type": "display_data"
    },
    {
     "data": {
      "application/vnd.jupyter.widget-view+json": {
       "model_id": "6df038c1e85342cd9047571a3579bc7d",
       "version_major": 2,
       "version_minor": 0
      },
      "text/plain": [
       "README.md:   0%|          | 0.00/10.5k [00:00<?, ?B/s]"
      ]
     },
     "metadata": {},
     "output_type": "display_data"
    },
    {
     "data": {
      "application/vnd.jupyter.widget-view+json": {
       "model_id": "e1542dfdbd954396b4d092c10989f34a",
       "version_major": 2,
       "version_minor": 0
      },
      "text/plain": [
       "sentence_bert_config.json:   0%|          | 0.00/53.0 [00:00<?, ?B/s]"
      ]
     },
     "metadata": {},
     "output_type": "display_data"
    },
    {
     "data": {
      "application/vnd.jupyter.widget-view+json": {
       "model_id": "6c311d51e02a4f2387a791a82dff10b2",
       "version_major": 2,
       "version_minor": 0
      },
      "text/plain": [
       "config.json:   0%|          | 0.00/612 [00:00<?, ?B/s]"
      ]
     },
     "metadata": {},
     "output_type": "display_data"
    },
    {
     "name": "stderr",
     "output_type": "stream",
     "text": [
      "Xet Storage is enabled for this repo, but the 'hf_xet' package is not installed. Falling back to regular HTTP download. For better performance, install the package with: `pip install huggingface_hub[hf_xet]` or `pip install hf_xet`\n"
     ]
    },
    {
     "data": {
      "application/vnd.jupyter.widget-view+json": {
       "model_id": "123aadc935c940c5b84893ebb6eca69d",
       "version_major": 2,
       "version_minor": 0
      },
      "text/plain": [
       "model.safetensors:   0%|          | 0.00/90.9M [00:00<?, ?B/s]"
      ]
     },
     "metadata": {},
     "output_type": "display_data"
    },
    {
     "data": {
      "application/vnd.jupyter.widget-view+json": {
       "model_id": "1648800d295b4ccc9052b9e51a568589",
       "version_major": 2,
       "version_minor": 0
      },
      "text/plain": [
       "tokenizer_config.json:   0%|          | 0.00/350 [00:00<?, ?B/s]"
      ]
     },
     "metadata": {},
     "output_type": "display_data"
    },
    {
     "data": {
      "application/vnd.jupyter.widget-view+json": {
       "model_id": "cb36e0e420ae482a9e2cf59f64b623b2",
       "version_major": 2,
       "version_minor": 0
      },
      "text/plain": [
       "vocab.txt:   0%|          | 0.00/232k [00:00<?, ?B/s]"
      ]
     },
     "metadata": {},
     "output_type": "display_data"
    },
    {
     "data": {
      "application/vnd.jupyter.widget-view+json": {
       "model_id": "679e9828b84442a19bdcbf0567591e98",
       "version_major": 2,
       "version_minor": 0
      },
      "text/plain": [
       "tokenizer.json:   0%|          | 0.00/466k [00:00<?, ?B/s]"
      ]
     },
     "metadata": {},
     "output_type": "display_data"
    },
    {
     "data": {
      "application/vnd.jupyter.widget-view+json": {
       "model_id": "a08018d319ae4906b0562a047a39f8e7",
       "version_major": 2,
       "version_minor": 0
      },
      "text/plain": [
       "special_tokens_map.json:   0%|          | 0.00/112 [00:00<?, ?B/s]"
      ]
     },
     "metadata": {},
     "output_type": "display_data"
    },
    {
     "data": {
      "application/vnd.jupyter.widget-view+json": {
       "model_id": "db92d4eba9c642b8a782536c1761da61",
       "version_major": 2,
       "version_minor": 0
      },
      "text/plain": [
       "config.json:   0%|          | 0.00/190 [00:00<?, ?B/s]"
      ]
     },
     "metadata": {},
     "output_type": "display_data"
    },
    {
     "data": {
      "application/vnd.jupyter.widget-view+json": {
       "model_id": "9c498c6b61d24494ac46598eeee1043a",
       "version_major": 2,
       "version_minor": 0
      },
      "text/plain": [
       "Parsing nodes:   0%|          | 0/47447 [00:00<?, ?it/s]"
      ]
     },
     "metadata": {},
     "output_type": "display_data"
    },
    {
     "name": "stdout",
     "output_type": "stream",
     "text": [
      "Some nodes are missing content, skipping them...\n"
     ]
    },
    {
     "data": {
      "application/vnd.jupyter.widget-view+json": {
       "model_id": "cd1053f48cea4659b43d1af12056d40a",
       "version_major": 2,
       "version_minor": 0
      },
      "text/plain": [
       "Generating embeddings:   0%|          | 0/47442 [00:00<?, ?it/s]"
      ]
     },
     "metadata": {},
     "output_type": "display_data"
    },
    {
     "name": "stdout",
     "output_type": "stream",
     "text": [
      "Persisting index to disk...\n",
      "VectorStoreIndex saved to storage.\n"
     ]
    },
    {
     "data": {
      "text/plain": [
       "<llama_index.core.indices.vector_store.base.VectorStoreIndex at 0x7ff02cd0d820>"
      ]
     },
     "execution_count": 26,
     "metadata": {},
     "output_type": "execute_result"
    }
   ],
   "source": [
    "# Step 2: Build and persist the vector index\n",
    "build_index(documents, model_name_embed, device, persist_dir)"
   ]
  },
  {
   "cell_type": "code",
   "execution_count": 27,
   "id": "01a863a3-8a75-4e79-a133-ee96bb318c81",
   "metadata": {},
   "outputs": [
    {
     "name": "stdout",
     "output_type": "stream",
     "text": [
      "Loading index from storage...\n",
      "Index loaded.\n"
     ]
    }
   ],
   "source": [
    "# Step 3: Load the index (optional, for a new session)\n",
    "index = load_index(persist_dir)"
   ]
  },
  {
   "cell_type": "code",
   "execution_count": 39,
   "id": "aadb27c7-3412-4e6e-9ca3-658a46657420",
   "metadata": {},
   "outputs": [],
   "source": [
    "# Step 4: Setup the LLM\n",
    "llm = HuggingFaceLLM(\n",
    "    model_name=model_name_llm,       # Nyelvi modell beállítása\n",
    "    tokenizer_name=model_name_llm,   # Nyelvi modell tokenizátorának beállítása\n",
    "    context_window=2048,                                          # Maximum token limit\n",
    "    max_new_tokens=256,                                           # Válasz maximális hossza\n",
    "    device_map=\"cuda:0\",                                          # GPU használata,\n",
    "    generate_kwargs={\"temperature\": 0.95, \"do_sample\": True},     # Ezek a paraméterek befolyásolják a modell válaszainak véletlenszerűségét és kreativitását.\n",
    ")\n",
    "Settings.llm = llm"
   ]
  },
  {
   "cell_type": "code",
   "execution_count": 42,
   "id": "f8c5246b-4346-49bc-99c3-abd0b8ba0e61",
   "metadata": {},
   "outputs": [
    {
     "name": "stdout",
     "output_type": "stream",
     "text": [
      "Setting up chat engine...\n"
     ]
    }
   ],
   "source": [
    "# Step 5: Setup the chat engine\n",
    "chat_engine = setup_chat_engine(index, system_prompt=None)"
   ]
  },
  {
   "cell_type": "code",
   "execution_count": null,
   "id": "18c266e4-bca9-40ef-b3cf-50a613ab4cbb",
   "metadata": {},
   "outputs": [
    {
     "name": "stdout",
     "output_type": "stream",
     "text": [
      "Chatbot is ready! Type your question or 'quit' to exit.\n"
     ]
    },
    {
     "name": "stdin",
     "output_type": "stream",
     "text": [
      ">  What is covid19?\n"
     ]
    },
    {
     "name": "stdout",
     "output_type": "stream",
     "text": [
      "Agent: Covid-19 is a respiratory illness caused by severe acute respiratory syndrome coronavirus 2 (SARS-CoV-2) that emerged in Wuhan, China during the 2019-2020 outbreak. COVID-19 is a respiratory disease, with symptoms including fever, cough, shortness of breath, and possible pneumonia. The disease can lead to severe complications such as respiratory failure and death in severe cases if appropriate treatment is not received.\n"
     ]
    },
    {
     "name": "stdin",
     "output_type": "stream",
     "text": [
      ">  What is the role of carbon monoxide in smoking?\n"
     ]
    },
    {
     "name": "stdout",
     "output_type": "stream",
     "text": [
      "Agent: Carbon monoxide (CO) is an odourless, tasteless, and colorless gas produced from the incomplete combustion of organic compounds (such as carbohydrates, amines, and alcohols). CO is a potent toxic gas that rapidly inhibits the ability of oxygen to enter cells, leading to the breakdown of the mitochondria and causing cellular degradation. The concentration of CO in smokers can be significantly higher than in non-smokers, and their breathing is often characterized by poor flow of air to their "
     ]
    }
   ],
   "source": [
    "# Step 6: Start chatting\n",
    "chat(chat_engine)"
   ]
  },
  {
   "cell_type": "code",
   "execution_count": null,
   "id": "70243985-a293-4040-bedb-fa221661ca4d",
   "metadata": {},
   "outputs": [],
   "source": []
  }
 ],
 "metadata": {
  "kernelspec": {
   "display_name": "Python 3 (ipykernel)",
   "language": "python",
   "name": "python3"
  },
  "language_info": {
   "codemirror_mode": {
    "name": "ipython",
    "version": 3
   },
   "file_extension": ".py",
   "mimetype": "text/x-python",
   "name": "python",
   "nbconvert_exporter": "python",
   "pygments_lexer": "ipython3",
   "version": "3.12.3"
  }
 },
 "nbformat": 4,
 "nbformat_minor": 5
}
